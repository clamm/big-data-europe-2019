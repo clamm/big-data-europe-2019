{
 "cells": [
  {
   "cell_type": "markdown",
   "metadata": {},
   "source": [
    "Put kaggle.json in the right location:"
   ]
  },
  {
   "cell_type": "code",
   "execution_count": 1,
   "metadata": {},
   "outputs": [],
   "source": [
    "def setup_kaggle():\n",
    "    x = !ls kaggle.json\n",
    "    assert x == ['kaggle.json'], 'Upload kaggle.json'\n",
    "    !mkdir /root/.kaggle\n",
    "    !mv kaggle.json /root/.kaggle\n",
    "    !chmod 600 /root/.kaggle/kaggle.json"
   ]
  },
  {
   "cell_type": "code",
   "execution_count": 2,
   "metadata": {},
   "outputs": [
    {
     "name": "stdout",
     "output_type": "stream",
     "text": [
      "mkdir: /root: No such file or directory\n",
      "mv: rename kaggle.json to /root/.kaggle: No such file or directory\n",
      "chmod: /root/.kaggle/kaggle.json: No such file or directory\n"
     ]
    }
   ],
   "source": [
    "setup_kaggle()"
   ]
  },
  {
   "cell_type": "code",
   "execution_count": 5,
   "metadata": {
    "scrolled": true
   },
   "outputs": [],
   "source": [
    "!pip install -q -U toai\n",
    "# !pip install -q -U tensorflow-gpu"
   ]
  },
  {
   "cell_type": "code",
   "execution_count": null,
   "metadata": {},
   "outputs": [],
   "source": []
  }
 ],
 "metadata": {
  "kernelspec": {
   "display_name": "Python 37 tf",
   "language": "python",
   "name": "myenv"
  },
  "language_info": {
   "codemirror_mode": {
    "name": "ipython",
    "version": 3
   },
   "file_extension": ".py",
   "mimetype": "text/x-python",
   "name": "python",
   "nbconvert_exporter": "python",
   "pygments_lexer": "ipython3",
   "version": "3.7.5"
  }
 },
 "nbformat": 4,
 "nbformat_minor": 2
}
