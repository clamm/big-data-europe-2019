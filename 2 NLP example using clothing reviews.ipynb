{
 "cells": [
  {
   "cell_type": "code",
   "execution_count": 1,
   "metadata": {},
   "outputs": [
    {
     "data": {
      "application/javascript": [
       "\n",
       "            setTimeout(function() {\n",
       "                var nbb_cell_id = 1;\n",
       "                var nbb_formatted_code = \"%load_ext autoreload\\n%autoreload 2\\n%load_ext nb_black\";\n",
       "                var nbb_cells = Jupyter.notebook.get_cells();\n",
       "                for (var i = 0; i < nbb_cells.length; ++i) {\n",
       "                    if (nbb_cells[i].input_prompt_number == nbb_cell_id) {\n",
       "                        nbb_cells[i].set_text(nbb_formatted_code);\n",
       "                        break;\n",
       "                    }\n",
       "                }\n",
       "            }, 500);\n",
       "            "
      ],
      "text/plain": [
       "<IPython.core.display.Javascript object>"
      ]
     },
     "metadata": {},
     "output_type": "display_data"
    }
   ],
   "source": [
    "%load_ext autoreload\n",
    "%autoreload 2\n",
    "%load_ext nb_black"
   ]
  },
  {
   "cell_type": "code",
   "execution_count": 2,
   "metadata": {},
   "outputs": [
    {
     "data": {
      "application/javascript": [
       "\n",
       "            setTimeout(function() {\n",
       "                var nbb_cell_id = 2;\n",
       "                var nbb_formatted_code = \"import os\\n\\nos.environ[\\\"CUDA_DEVICE_ORDER\\\"] = \\\"PCI_BUS_ID\\\"\\nos.environ[\\\"CUDA_VISIBLE_DEVICES\\\"] = \\\"0\\\"\";\n",
       "                var nbb_cells = Jupyter.notebook.get_cells();\n",
       "                for (var i = 0; i < nbb_cells.length; ++i) {\n",
       "                    if (nbb_cells[i].input_prompt_number == nbb_cell_id) {\n",
       "                        nbb_cells[i].set_text(nbb_formatted_code);\n",
       "                        break;\n",
       "                    }\n",
       "                }\n",
       "            }, 500);\n",
       "            "
      ],
      "text/plain": [
       "<IPython.core.display.Javascript object>"
      ]
     },
     "metadata": {},
     "output_type": "display_data"
    }
   ],
   "source": [
    "import os\n",
    "\n",
    "os.environ[\"CUDA_DEVICE_ORDER\"] = \"PCI_BUS_ID\"\n",
    "os.environ[\"CUDA_VISIBLE_DEVICES\"] = \"0\""
   ]
  },
  {
   "cell_type": "code",
   "execution_count": 3,
   "metadata": {},
   "outputs": [
    {
     "data": {
      "application/javascript": [
       "\n",
       "            setTimeout(function() {\n",
       "                var nbb_cell_id = 3;\n",
       "                var nbb_formatted_code = \"try:\\n    %tensorflow_version 2.x\\nexcept Exception:\\n    pass\";\n",
       "                var nbb_cells = Jupyter.notebook.get_cells();\n",
       "                for (var i = 0; i < nbb_cells.length; ++i) {\n",
       "                    if (nbb_cells[i].input_prompt_number == nbb_cell_id) {\n",
       "                        nbb_cells[i].set_text(nbb_formatted_code);\n",
       "                        break;\n",
       "                    }\n",
       "                }\n",
       "            }, 500);\n",
       "            "
      ],
      "text/plain": [
       "<IPython.core.display.Javascript object>"
      ]
     },
     "metadata": {},
     "output_type": "display_data"
    }
   ],
   "source": [
    "try:\n",
    "    %tensorflow_version 2.x\n",
    "except Exception:\n",
    "    pass"
   ]
  },
  {
   "cell_type": "code",
   "execution_count": 4,
   "metadata": {},
   "outputs": [
    {
     "data": {
      "application/javascript": [
       "\n",
       "            setTimeout(function() {\n",
       "                var nbb_cell_id = 4;\n",
       "                var nbb_formatted_code = \"SETUP = False\";\n",
       "                var nbb_cells = Jupyter.notebook.get_cells();\n",
       "                for (var i = 0; i < nbb_cells.length; ++i) {\n",
       "                    if (nbb_cells[i].input_prompt_number == nbb_cell_id) {\n",
       "                        nbb_cells[i].set_text(nbb_formatted_code);\n",
       "                        break;\n",
       "                    }\n",
       "                }\n",
       "            }, 500);\n",
       "            "
      ],
      "text/plain": [
       "<IPython.core.display.Javascript object>"
      ]
     },
     "metadata": {},
     "output_type": "display_data"
    }
   ],
   "source": [
    "SETUP = False"
   ]
  },
  {
   "cell_type": "code",
   "execution_count": 5,
   "metadata": {},
   "outputs": [
    {
     "data": {
      "application/javascript": [
       "\n",
       "            setTimeout(function() {\n",
       "                var nbb_cell_id = 5;\n",
       "                var nbb_formatted_code = \"if SETUP:\\n    !pip install -q -U toai\\n    !pip install -q -U nb_black\\n    !pip install -q -U tensorflow-datasets\\n    !pip install -q -U --no-deps tensorflow-addons\\n    !pip install -q -U tensorflow_hub\\n    print(__import__(\\\"toai\\\").__version__)\\n    print(__import__(\\\"tensorflow\\\").__version__)\";\n",
       "                var nbb_cells = Jupyter.notebook.get_cells();\n",
       "                for (var i = 0; i < nbb_cells.length; ++i) {\n",
       "                    if (nbb_cells[i].input_prompt_number == nbb_cell_id) {\n",
       "                        nbb_cells[i].set_text(nbb_formatted_code);\n",
       "                        break;\n",
       "                    }\n",
       "                }\n",
       "            }, 500);\n",
       "            "
      ],
      "text/plain": [
       "<IPython.core.display.Javascript object>"
      ]
     },
     "metadata": {},
     "output_type": "display_data"
    }
   ],
   "source": [
    "if SETUP:\n",
    "    !pip install -q -U toai\n",
    "    !pip install -q -U nb_black\n",
    "    !pip install -q -U tensorflow-datasets\n",
    "    !pip install -q -U --no-deps tensorflow-addons\n",
    "    !pip install -q -U tensorflow_hub\n",
    "    print(__import__(\"toai\").__version__)\n",
    "    print(__import__(\"tensorflow\").__version__)"
   ]
  },
  {
   "cell_type": "code",
   "execution_count": 6,
   "metadata": {},
   "outputs": [
    {
     "name": "stdout",
     "output_type": "stream",
     "text": [
      "0.3.7\n"
     ]
    },
    {
     "data": {
      "application/javascript": [
       "\n",
       "            setTimeout(function() {\n",
       "                var nbb_cell_id = 6;\n",
       "                var nbb_formatted_code = \"print(__import__(\\\"toai\\\").__version__)\";\n",
       "                var nbb_cells = Jupyter.notebook.get_cells();\n",
       "                for (var i = 0; i < nbb_cells.length; ++i) {\n",
       "                    if (nbb_cells[i].input_prompt_number == nbb_cell_id) {\n",
       "                        nbb_cells[i].set_text(nbb_formatted_code);\n",
       "                        break;\n",
       "                    }\n",
       "                }\n",
       "            }, 500);\n",
       "            "
      ],
      "text/plain": [
       "<IPython.core.display.Javascript object>"
      ]
     },
     "metadata": {},
     "output_type": "display_data"
    }
   ],
   "source": [
    "print(__import__(\"toai\").__version__)"
   ]
  },
  {
   "cell_type": "code",
   "execution_count": 7,
   "metadata": {},
   "outputs": [
    {
     "name": "stderr",
     "output_type": "stream",
     "text": [
      "/usr/local/lib/python3.6/dist-packages/sklearn/externals/joblib/__init__.py:15: DeprecationWarning: sklearn.externals.joblib is deprecated in 0.21 and will be removed in 0.23. Please import this functionality directly from joblib, which can be installed with: pip install joblib. If this warning is raised when loading pickled models, you may need to re-serialize those models with scikit-learn 0.21+.\n",
      "  warnings.warn(msg, category=DeprecationWarning)\n"
     ]
    },
    {
     "data": {
      "application/javascript": [
       "\n",
       "            setTimeout(function() {\n",
       "                var nbb_cell_id = 7;\n",
       "                var nbb_formatted_code = \"from toai.imports import *\\nfrom toai.utils import save_file, load_file\\nfrom toai.data import DataContainer, DataBundle\\nfrom toai.metrics import sparse_top_2_categorical_accuracy\\nfrom toai.models import save_keras_model, load_keras_model\\nimport tensorflow as tf\\nfrom tensorflow import keras\\nimport tensorflow_hub as hub\";\n",
       "                var nbb_cells = Jupyter.notebook.get_cells();\n",
       "                for (var i = 0; i < nbb_cells.length; ++i) {\n",
       "                    if (nbb_cells[i].input_prompt_number == nbb_cell_id) {\n",
       "                        nbb_cells[i].set_text(nbb_formatted_code);\n",
       "                        break;\n",
       "                    }\n",
       "                }\n",
       "            }, 500);\n",
       "            "
      ],
      "text/plain": [
       "<IPython.core.display.Javascript object>"
      ]
     },
     "metadata": {},
     "output_type": "display_data"
    }
   ],
   "source": [
    "from toai.imports import *\n",
    "from toai.utils import save_file, load_file\n",
    "from toai.data import DataContainer, DataBundle\n",
    "from toai.metrics import sparse_top_2_categorical_accuracy\n",
    "from toai.models import save_keras_model, load_keras_model\n",
    "import tensorflow as tf\n",
    "from tensorflow import keras\n",
    "import tensorflow_hub as hub"
   ]
  },
  {
   "cell_type": "code",
   "execution_count": 8,
   "metadata": {},
   "outputs": [
    {
     "data": {
      "application/javascript": [
       "\n",
       "            setTimeout(function() {\n",
       "                var nbb_cell_id = 8;\n",
       "                var nbb_formatted_code = \"DATA_DIR = Path(\\\"data/womens-ecommerce-clothing-reviews\\\")\\nTEMP_DIR = Path(\\\"temp/womens-ecommerce-clothing-reviews\\\")\";\n",
       "                var nbb_cells = Jupyter.notebook.get_cells();\n",
       "                for (var i = 0; i < nbb_cells.length; ++i) {\n",
       "                    if (nbb_cells[i].input_prompt_number == nbb_cell_id) {\n",
       "                        nbb_cells[i].set_text(nbb_formatted_code);\n",
       "                        break;\n",
       "                    }\n",
       "                }\n",
       "            }, 500);\n",
       "            "
      ],
      "text/plain": [
       "<IPython.core.display.Javascript object>"
      ]
     },
     "metadata": {},
     "output_type": "display_data"
    }
   ],
   "source": [
    "DATA_DIR = Path(\"data/womens-ecommerce-clothing-reviews\")\n",
    "TEMP_DIR = Path(\"temp/womens-ecommerce-clothing-reviews\")"
   ]
  },
  {
   "cell_type": "code",
   "execution_count": 9,
   "metadata": {},
   "outputs": [
    {
     "data": {
      "application/javascript": [
       "\n",
       "            setTimeout(function() {\n",
       "                var nbb_cell_id = 9;\n",
       "                var nbb_formatted_code = \"if SETUP:\\n    shutil.rmtree(str(DATA_DIR), ignore_errors=True)\\n    shutil.rmtree(str(TEMP_DIR), ignore_errors=True)\\n    DATA_DIR.mkdir(parents=True)\\n    TEMP_DIR.mkdir(parents=True)\\n    kaggle.api.authenticate()\\n    kaggle.api.dataset_download_files(\\n        dataset=\\\"nicapotato/womens-ecommerce-clothing-reviews\\\",\\n        path=DATA_DIR,\\n        unzip=True,\\n    )\";\n",
       "                var nbb_cells = Jupyter.notebook.get_cells();\n",
       "                for (var i = 0; i < nbb_cells.length; ++i) {\n",
       "                    if (nbb_cells[i].input_prompt_number == nbb_cell_id) {\n",
       "                        nbb_cells[i].set_text(nbb_formatted_code);\n",
       "                        break;\n",
       "                    }\n",
       "                }\n",
       "            }, 500);\n",
       "            "
      ],
      "text/plain": [
       "<IPython.core.display.Javascript object>"
      ]
     },
     "metadata": {},
     "output_type": "display_data"
    }
   ],
   "source": [
    "if SETUP:\n",
    "    shutil.rmtree(str(DATA_DIR), ignore_errors=True)\n",
    "    shutil.rmtree(str(TEMP_DIR), ignore_errors=True)\n",
    "    DATA_DIR.mkdir(parents=True)\n",
    "    TEMP_DIR.mkdir(parents=True)\n",
    "    kaggle.api.authenticate()\n",
    "    kaggle.api.dataset_download_files(\n",
    "        dataset=\"nicapotato/womens-ecommerce-clothing-reviews\",\n",
    "        path=DATA_DIR,\n",
    "        unzip=True,\n",
    "    )"
   ]
  },
  {
   "cell_type": "code",
   "execution_count": 10,
   "metadata": {},
   "outputs": [
    {
     "data": {
      "application/javascript": [
       "\n",
       "            setTimeout(function() {\n",
       "                var nbb_cell_id = 10;\n",
       "                var nbb_formatted_code = \"BATCH_SIZE = 32\\nAUTOTUNE = tf.data.experimental.AUTOTUNE\";\n",
       "                var nbb_cells = Jupyter.notebook.get_cells();\n",
       "                for (var i = 0; i < nbb_cells.length; ++i) {\n",
       "                    if (nbb_cells[i].input_prompt_number == nbb_cell_id) {\n",
       "                        nbb_cells[i].set_text(nbb_formatted_code);\n",
       "                        break;\n",
       "                    }\n",
       "                }\n",
       "            }, 500);\n",
       "            "
      ],
      "text/plain": [
       "<IPython.core.display.Javascript object>"
      ]
     },
     "metadata": {},
     "output_type": "display_data"
    }
   ],
   "source": [
    "BATCH_SIZE = 32\n",
    "AUTOTUNE = tf.data.experimental.AUTOTUNE"
   ]
  },
  {
   "cell_type": "code",
   "execution_count": 11,
   "metadata": {},
   "outputs": [
    {
     "data": {
      "application/javascript": [
       "\n",
       "            setTimeout(function() {\n",
       "                var nbb_cell_id = 11;\n",
       "                var nbb_formatted_code = \"all_data = pd.read_csv(\\n    DATA_DIR / \\\"Womens Clothing E-Commerce Reviews.csv\\\", low_memory=False\\n)\";\n",
       "                var nbb_cells = Jupyter.notebook.get_cells();\n",
       "                for (var i = 0; i < nbb_cells.length; ++i) {\n",
       "                    if (nbb_cells[i].input_prompt_number == nbb_cell_id) {\n",
       "                        nbb_cells[i].set_text(nbb_formatted_code);\n",
       "                        break;\n",
       "                    }\n",
       "                }\n",
       "            }, 500);\n",
       "            "
      ],
      "text/plain": [
       "<IPython.core.display.Javascript object>"
      ]
     },
     "metadata": {},
     "output_type": "display_data"
    }
   ],
   "source": [
    "all_data = pd.read_csv(\n",
    "    DATA_DIR / \"Womens Clothing E-Commerce Reviews.csv\", low_memory=False\n",
    ")"
   ]
  },
  {
   "cell_type": "code",
   "execution_count": 12,
   "metadata": {},
   "outputs": [
    {
     "name": "stdout",
     "output_type": "stream",
     "text": [
      "<class 'pandas.core.frame.DataFrame'>\n",
      "RangeIndex: 23486 entries, 0 to 23485\n",
      "Data columns (total 11 columns):\n",
      "Unnamed: 0                 23486 non-null int64\n",
      "Clothing ID                23486 non-null int64\n",
      "Age                        23486 non-null int64\n",
      "Title                      19676 non-null object\n",
      "Review Text                22641 non-null object\n",
      "Rating                     23486 non-null int64\n",
      "Recommended IND            23486 non-null int64\n",
      "Positive Feedback Count    23486 non-null int64\n",
      "Division Name              23472 non-null object\n",
      "Department Name            23472 non-null object\n",
      "Class Name                 23472 non-null object\n",
      "dtypes: int64(6), object(5)\n",
      "memory usage: 2.0+ MB\n"
     ]
    },
    {
     "data": {
      "application/javascript": [
       "\n",
       "            setTimeout(function() {\n",
       "                var nbb_cell_id = 12;\n",
       "                var nbb_formatted_code = \"all_data.info()\";\n",
       "                var nbb_cells = Jupyter.notebook.get_cells();\n",
       "                for (var i = 0; i < nbb_cells.length; ++i) {\n",
       "                    if (nbb_cells[i].input_prompt_number == nbb_cell_id) {\n",
       "                        nbb_cells[i].set_text(nbb_formatted_code);\n",
       "                        break;\n",
       "                    }\n",
       "                }\n",
       "            }, 500);\n",
       "            "
      ],
      "text/plain": [
       "<IPython.core.display.Javascript object>"
      ]
     },
     "metadata": {},
     "output_type": "display_data"
    }
   ],
   "source": [
    "all_data.info()"
   ]
  },
  {
   "cell_type": "code",
   "execution_count": 13,
   "metadata": {},
   "outputs": [
    {
     "data": {
      "text/html": [
       "<div>\n",
       "<style scoped>\n",
       "    .dataframe tbody tr th:only-of-type {\n",
       "        vertical-align: middle;\n",
       "    }\n",
       "\n",
       "    .dataframe tbody tr th {\n",
       "        vertical-align: top;\n",
       "    }\n",
       "\n",
       "    .dataframe thead th {\n",
       "        text-align: right;\n",
       "    }\n",
       "</style>\n",
       "<table border=\"1\" class=\"dataframe\">\n",
       "  <thead>\n",
       "    <tr style=\"text-align: right;\">\n",
       "      <th></th>\n",
       "      <th>Unnamed: 0</th>\n",
       "      <th>Clothing ID</th>\n",
       "      <th>Age</th>\n",
       "      <th>Title</th>\n",
       "      <th>Review Text</th>\n",
       "      <th>Rating</th>\n",
       "      <th>Recommended IND</th>\n",
       "      <th>Positive Feedback Count</th>\n",
       "      <th>Division Name</th>\n",
       "      <th>Department Name</th>\n",
       "      <th>Class Name</th>\n",
       "    </tr>\n",
       "  </thead>\n",
       "  <tbody>\n",
       "    <tr>\n",
       "      <td>count</td>\n",
       "      <td>23486.000000</td>\n",
       "      <td>23486.000000</td>\n",
       "      <td>23486.000000</td>\n",
       "      <td>19676</td>\n",
       "      <td>22641</td>\n",
       "      <td>23486.000000</td>\n",
       "      <td>23486.000000</td>\n",
       "      <td>23486.000000</td>\n",
       "      <td>23472</td>\n",
       "      <td>23472</td>\n",
       "      <td>23472</td>\n",
       "    </tr>\n",
       "    <tr>\n",
       "      <td>unique</td>\n",
       "      <td>NaN</td>\n",
       "      <td>NaN</td>\n",
       "      <td>NaN</td>\n",
       "      <td>13993</td>\n",
       "      <td>22634</td>\n",
       "      <td>NaN</td>\n",
       "      <td>NaN</td>\n",
       "      <td>NaN</td>\n",
       "      <td>3</td>\n",
       "      <td>6</td>\n",
       "      <td>20</td>\n",
       "    </tr>\n",
       "    <tr>\n",
       "      <td>top</td>\n",
       "      <td>NaN</td>\n",
       "      <td>NaN</td>\n",
       "      <td>NaN</td>\n",
       "      <td>Love it!</td>\n",
       "      <td>Perfect fit and i've gotten so many compliment...</td>\n",
       "      <td>NaN</td>\n",
       "      <td>NaN</td>\n",
       "      <td>NaN</td>\n",
       "      <td>General</td>\n",
       "      <td>Tops</td>\n",
       "      <td>Dresses</td>\n",
       "    </tr>\n",
       "    <tr>\n",
       "      <td>freq</td>\n",
       "      <td>NaN</td>\n",
       "      <td>NaN</td>\n",
       "      <td>NaN</td>\n",
       "      <td>136</td>\n",
       "      <td>3</td>\n",
       "      <td>NaN</td>\n",
       "      <td>NaN</td>\n",
       "      <td>NaN</td>\n",
       "      <td>13850</td>\n",
       "      <td>10468</td>\n",
       "      <td>6319</td>\n",
       "    </tr>\n",
       "    <tr>\n",
       "      <td>mean</td>\n",
       "      <td>11742.500000</td>\n",
       "      <td>918.118709</td>\n",
       "      <td>43.198544</td>\n",
       "      <td>NaN</td>\n",
       "      <td>NaN</td>\n",
       "      <td>4.196032</td>\n",
       "      <td>0.822362</td>\n",
       "      <td>2.535936</td>\n",
       "      <td>NaN</td>\n",
       "      <td>NaN</td>\n",
       "      <td>NaN</td>\n",
       "    </tr>\n",
       "    <tr>\n",
       "      <td>std</td>\n",
       "      <td>6779.968547</td>\n",
       "      <td>203.298980</td>\n",
       "      <td>12.279544</td>\n",
       "      <td>NaN</td>\n",
       "      <td>NaN</td>\n",
       "      <td>1.110031</td>\n",
       "      <td>0.382216</td>\n",
       "      <td>5.702202</td>\n",
       "      <td>NaN</td>\n",
       "      <td>NaN</td>\n",
       "      <td>NaN</td>\n",
       "    </tr>\n",
       "    <tr>\n",
       "      <td>min</td>\n",
       "      <td>0.000000</td>\n",
       "      <td>0.000000</td>\n",
       "      <td>18.000000</td>\n",
       "      <td>NaN</td>\n",
       "      <td>NaN</td>\n",
       "      <td>1.000000</td>\n",
       "      <td>0.000000</td>\n",
       "      <td>0.000000</td>\n",
       "      <td>NaN</td>\n",
       "      <td>NaN</td>\n",
       "      <td>NaN</td>\n",
       "    </tr>\n",
       "    <tr>\n",
       "      <td>25%</td>\n",
       "      <td>5871.250000</td>\n",
       "      <td>861.000000</td>\n",
       "      <td>34.000000</td>\n",
       "      <td>NaN</td>\n",
       "      <td>NaN</td>\n",
       "      <td>4.000000</td>\n",
       "      <td>1.000000</td>\n",
       "      <td>0.000000</td>\n",
       "      <td>NaN</td>\n",
       "      <td>NaN</td>\n",
       "      <td>NaN</td>\n",
       "    </tr>\n",
       "    <tr>\n",
       "      <td>50%</td>\n",
       "      <td>11742.500000</td>\n",
       "      <td>936.000000</td>\n",
       "      <td>41.000000</td>\n",
       "      <td>NaN</td>\n",
       "      <td>NaN</td>\n",
       "      <td>5.000000</td>\n",
       "      <td>1.000000</td>\n",
       "      <td>1.000000</td>\n",
       "      <td>NaN</td>\n",
       "      <td>NaN</td>\n",
       "      <td>NaN</td>\n",
       "    </tr>\n",
       "    <tr>\n",
       "      <td>75%</td>\n",
       "      <td>17613.750000</td>\n",
       "      <td>1078.000000</td>\n",
       "      <td>52.000000</td>\n",
       "      <td>NaN</td>\n",
       "      <td>NaN</td>\n",
       "      <td>5.000000</td>\n",
       "      <td>1.000000</td>\n",
       "      <td>3.000000</td>\n",
       "      <td>NaN</td>\n",
       "      <td>NaN</td>\n",
       "      <td>NaN</td>\n",
       "    </tr>\n",
       "    <tr>\n",
       "      <td>max</td>\n",
       "      <td>23485.000000</td>\n",
       "      <td>1205.000000</td>\n",
       "      <td>99.000000</td>\n",
       "      <td>NaN</td>\n",
       "      <td>NaN</td>\n",
       "      <td>5.000000</td>\n",
       "      <td>1.000000</td>\n",
       "      <td>122.000000</td>\n",
       "      <td>NaN</td>\n",
       "      <td>NaN</td>\n",
       "      <td>NaN</td>\n",
       "    </tr>\n",
       "  </tbody>\n",
       "</table>\n",
       "</div>"
      ],
      "text/plain": [
       "          Unnamed: 0   Clothing ID           Age     Title  \\\n",
       "count   23486.000000  23486.000000  23486.000000     19676   \n",
       "unique           NaN           NaN           NaN     13993   \n",
       "top              NaN           NaN           NaN  Love it!   \n",
       "freq             NaN           NaN           NaN       136   \n",
       "mean    11742.500000    918.118709     43.198544       NaN   \n",
       "std      6779.968547    203.298980     12.279544       NaN   \n",
       "min         0.000000      0.000000     18.000000       NaN   \n",
       "25%      5871.250000    861.000000     34.000000       NaN   \n",
       "50%     11742.500000    936.000000     41.000000       NaN   \n",
       "75%     17613.750000   1078.000000     52.000000       NaN   \n",
       "max     23485.000000   1205.000000     99.000000       NaN   \n",
       "\n",
       "                                              Review Text        Rating  \\\n",
       "count                                               22641  23486.000000   \n",
       "unique                                              22634           NaN   \n",
       "top     Perfect fit and i've gotten so many compliment...           NaN   \n",
       "freq                                                    3           NaN   \n",
       "mean                                                  NaN      4.196032   \n",
       "std                                                   NaN      1.110031   \n",
       "min                                                   NaN      1.000000   \n",
       "25%                                                   NaN      4.000000   \n",
       "50%                                                   NaN      5.000000   \n",
       "75%                                                   NaN      5.000000   \n",
       "max                                                   NaN      5.000000   \n",
       "\n",
       "        Recommended IND  Positive Feedback Count Division Name  \\\n",
       "count      23486.000000             23486.000000         23472   \n",
       "unique              NaN                      NaN             3   \n",
       "top                 NaN                      NaN       General   \n",
       "freq                NaN                      NaN         13850   \n",
       "mean           0.822362                 2.535936           NaN   \n",
       "std            0.382216                 5.702202           NaN   \n",
       "min            0.000000                 0.000000           NaN   \n",
       "25%            1.000000                 0.000000           NaN   \n",
       "50%            1.000000                 1.000000           NaN   \n",
       "75%            1.000000                 3.000000           NaN   \n",
       "max            1.000000               122.000000           NaN   \n",
       "\n",
       "       Department Name Class Name  \n",
       "count            23472      23472  \n",
       "unique               6         20  \n",
       "top               Tops    Dresses  \n",
       "freq             10468       6319  \n",
       "mean               NaN        NaN  \n",
       "std                NaN        NaN  \n",
       "min                NaN        NaN  \n",
       "25%                NaN        NaN  \n",
       "50%                NaN        NaN  \n",
       "75%                NaN        NaN  \n",
       "max                NaN        NaN  "
      ]
     },
     "execution_count": 13,
     "metadata": {},
     "output_type": "execute_result"
    },
    {
     "data": {
      "application/javascript": [
       "\n",
       "            setTimeout(function() {\n",
       "                var nbb_cell_id = 13;\n",
       "                var nbb_formatted_code = \"all_data.describe(include=\\\"all\\\")\";\n",
       "                var nbb_cells = Jupyter.notebook.get_cells();\n",
       "                for (var i = 0; i < nbb_cells.length; ++i) {\n",
       "                    if (nbb_cells[i].input_prompt_number == nbb_cell_id) {\n",
       "                        nbb_cells[i].set_text(nbb_formatted_code);\n",
       "                        break;\n",
       "                    }\n",
       "                }\n",
       "            }, 500);\n",
       "            "
      ],
      "text/plain": [
       "<IPython.core.display.Javascript object>"
      ]
     },
     "metadata": {},
     "output_type": "display_data"
    }
   ],
   "source": [
    "all_data.describe(include=\"all\")"
   ]
  },
  {
   "cell_type": "code",
   "execution_count": 14,
   "metadata": {},
   "outputs": [
    {
     "data": {
      "text/html": [
       "<div>\n",
       "<style scoped>\n",
       "    .dataframe tbody tr th:only-of-type {\n",
       "        vertical-align: middle;\n",
       "    }\n",
       "\n",
       "    .dataframe tbody tr th {\n",
       "        vertical-align: top;\n",
       "    }\n",
       "\n",
       "    .dataframe thead th {\n",
       "        text-align: right;\n",
       "    }\n",
       "</style>\n",
       "<table border=\"1\" class=\"dataframe\">\n",
       "  <thead>\n",
       "    <tr style=\"text-align: right;\">\n",
       "      <th></th>\n",
       "      <th>Unnamed: 0</th>\n",
       "      <th>Clothing ID</th>\n",
       "      <th>Age</th>\n",
       "      <th>Title</th>\n",
       "      <th>Review Text</th>\n",
       "      <th>Rating</th>\n",
       "      <th>Recommended IND</th>\n",
       "      <th>Positive Feedback Count</th>\n",
       "      <th>Division Name</th>\n",
       "      <th>Department Name</th>\n",
       "      <th>Class Name</th>\n",
       "    </tr>\n",
       "  </thead>\n",
       "  <tbody>\n",
       "    <tr>\n",
       "      <td>0</td>\n",
       "      <td>0</td>\n",
       "      <td>767</td>\n",
       "      <td>33</td>\n",
       "      <td>NaN</td>\n",
       "      <td>Absolutely wonderful - silky and sexy and comf...</td>\n",
       "      <td>4</td>\n",
       "      <td>1</td>\n",
       "      <td>0</td>\n",
       "      <td>Initmates</td>\n",
       "      <td>Intimate</td>\n",
       "      <td>Intimates</td>\n",
       "    </tr>\n",
       "    <tr>\n",
       "      <td>1</td>\n",
       "      <td>1</td>\n",
       "      <td>1080</td>\n",
       "      <td>34</td>\n",
       "      <td>NaN</td>\n",
       "      <td>Love this dress!  it's sooo pretty.  i happene...</td>\n",
       "      <td>5</td>\n",
       "      <td>1</td>\n",
       "      <td>4</td>\n",
       "      <td>General</td>\n",
       "      <td>Dresses</td>\n",
       "      <td>Dresses</td>\n",
       "    </tr>\n",
       "    <tr>\n",
       "      <td>2</td>\n",
       "      <td>2</td>\n",
       "      <td>1077</td>\n",
       "      <td>60</td>\n",
       "      <td>Some major design flaws</td>\n",
       "      <td>I had such high hopes for this dress and reall...</td>\n",
       "      <td>3</td>\n",
       "      <td>0</td>\n",
       "      <td>0</td>\n",
       "      <td>General</td>\n",
       "      <td>Dresses</td>\n",
       "      <td>Dresses</td>\n",
       "    </tr>\n",
       "    <tr>\n",
       "      <td>3</td>\n",
       "      <td>3</td>\n",
       "      <td>1049</td>\n",
       "      <td>50</td>\n",
       "      <td>My favorite buy!</td>\n",
       "      <td>I love, love, love this jumpsuit. it's fun, fl...</td>\n",
       "      <td>5</td>\n",
       "      <td>1</td>\n",
       "      <td>0</td>\n",
       "      <td>General Petite</td>\n",
       "      <td>Bottoms</td>\n",
       "      <td>Pants</td>\n",
       "    </tr>\n",
       "    <tr>\n",
       "      <td>4</td>\n",
       "      <td>4</td>\n",
       "      <td>847</td>\n",
       "      <td>47</td>\n",
       "      <td>Flattering shirt</td>\n",
       "      <td>This shirt is very flattering to all due to th...</td>\n",
       "      <td>5</td>\n",
       "      <td>1</td>\n",
       "      <td>6</td>\n",
       "      <td>General</td>\n",
       "      <td>Tops</td>\n",
       "      <td>Blouses</td>\n",
       "    </tr>\n",
       "  </tbody>\n",
       "</table>\n",
       "</div>"
      ],
      "text/plain": [
       "   Unnamed: 0  Clothing ID  Age                    Title  \\\n",
       "0           0          767   33                      NaN   \n",
       "1           1         1080   34                      NaN   \n",
       "2           2         1077   60  Some major design flaws   \n",
       "3           3         1049   50         My favorite buy!   \n",
       "4           4          847   47         Flattering shirt   \n",
       "\n",
       "                                         Review Text  Rating  Recommended IND  \\\n",
       "0  Absolutely wonderful - silky and sexy and comf...       4                1   \n",
       "1  Love this dress!  it's sooo pretty.  i happene...       5                1   \n",
       "2  I had such high hopes for this dress and reall...       3                0   \n",
       "3  I love, love, love this jumpsuit. it's fun, fl...       5                1   \n",
       "4  This shirt is very flattering to all due to th...       5                1   \n",
       "\n",
       "   Positive Feedback Count   Division Name Department Name Class Name  \n",
       "0                        0       Initmates        Intimate  Intimates  \n",
       "1                        4         General         Dresses    Dresses  \n",
       "2                        0         General         Dresses    Dresses  \n",
       "3                        0  General Petite         Bottoms      Pants  \n",
       "4                        6         General            Tops    Blouses  "
      ]
     },
     "execution_count": 14,
     "metadata": {},
     "output_type": "execute_result"
    },
    {
     "data": {
      "application/javascript": [
       "\n",
       "            setTimeout(function() {\n",
       "                var nbb_cell_id = 14;\n",
       "                var nbb_formatted_code = \"all_data.head()\";\n",
       "                var nbb_cells = Jupyter.notebook.get_cells();\n",
       "                for (var i = 0; i < nbb_cells.length; ++i) {\n",
       "                    if (nbb_cells[i].input_prompt_number == nbb_cell_id) {\n",
       "                        nbb_cells[i].set_text(nbb_formatted_code);\n",
       "                        break;\n",
       "                    }\n",
       "                }\n",
       "            }, 500);\n",
       "            "
      ],
      "text/plain": [
       "<IPython.core.display.Javascript object>"
      ]
     },
     "metadata": {},
     "output_type": "display_data"
    }
   ],
   "source": [
    "all_data.head()"
   ]
  },
  {
   "cell_type": "code",
   "execution_count": 15,
   "metadata": {},
   "outputs": [
    {
     "data": {
      "text/plain": [
       "5    13131\n",
       "4     5077\n",
       "3     2871\n",
       "2     1565\n",
       "1      842\n",
       "Name: Rating, dtype: int64"
      ]
     },
     "execution_count": 15,
     "metadata": {},
     "output_type": "execute_result"
    },
    {
     "data": {
      "application/javascript": [
       "\n",
       "            setTimeout(function() {\n",
       "                var nbb_cell_id = 15;\n",
       "                var nbb_formatted_code = \"all_data[\\\"Rating\\\"].value_counts()\";\n",
       "                var nbb_cells = Jupyter.notebook.get_cells();\n",
       "                for (var i = 0; i < nbb_cells.length; ++i) {\n",
       "                    if (nbb_cells[i].input_prompt_number == nbb_cell_id) {\n",
       "                        nbb_cells[i].set_text(nbb_formatted_code);\n",
       "                        break;\n",
       "                    }\n",
       "                }\n",
       "            }, 500);\n",
       "            "
      ],
      "text/plain": [
       "<IPython.core.display.Javascript object>"
      ]
     },
     "metadata": {},
     "output_type": "display_data"
    }
   ],
   "source": [
    "all_data[\"Rating\"].value_counts()"
   ]
  },
  {
   "cell_type": "code",
   "execution_count": 16,
   "metadata": {},
   "outputs": [
    {
     "data": {
      "application/javascript": [
       "\n",
       "            setTimeout(function() {\n",
       "                var nbb_cell_id = 16;\n",
       "                var nbb_formatted_code = \"def drop_values(df, col_name, values):\\n    return df.loc[~df[col_name].isin(values), :].reset_index(drop=True)\";\n",
       "                var nbb_cells = Jupyter.notebook.get_cells();\n",
       "                for (var i = 0; i < nbb_cells.length; ++i) {\n",
       "                    if (nbb_cells[i].input_prompt_number == nbb_cell_id) {\n",
       "                        nbb_cells[i].set_text(nbb_formatted_code);\n",
       "                        break;\n",
       "                    }\n",
       "                }\n",
       "            }, 500);\n",
       "            "
      ],
      "text/plain": [
       "<IPython.core.display.Javascript object>"
      ]
     },
     "metadata": {},
     "output_type": "display_data"
    }
   ],
   "source": [
    "def drop_values(df, col_name, values):\n",
    "    return df.loc[~df[col_name].isin(values), :].reset_index(drop=True)"
   ]
  },
  {
   "cell_type": "code",
   "execution_count": 17,
   "metadata": {},
   "outputs": [
    {
     "data": {
      "application/javascript": [
       "\n",
       "            setTimeout(function() {\n",
       "                var nbb_cell_id = 17;\n",
       "                var nbb_formatted_code = \"def drop_rare_values(df, col_name, threshold):\\n    counts = df[col_name].value_counts(normalize=True)\\n    return df.loc[df[col_name].isin(counts[counts > threshold].index), :].reset_index(\\n        drop=True\\n    )\";\n",
       "                var nbb_cells = Jupyter.notebook.get_cells();\n",
       "                for (var i = 0; i < nbb_cells.length; ++i) {\n",
       "                    if (nbb_cells[i].input_prompt_number == nbb_cell_id) {\n",
       "                        nbb_cells[i].set_text(nbb_formatted_code);\n",
       "                        break;\n",
       "                    }\n",
       "                }\n",
       "            }, 500);\n",
       "            "
      ],
      "text/plain": [
       "<IPython.core.display.Javascript object>"
      ]
     },
     "metadata": {},
     "output_type": "display_data"
    }
   ],
   "source": [
    "def drop_rare_values(df, col_name, threshold):\n",
    "    counts = df[col_name].value_counts(normalize=True)\n",
    "    return df.loc[df[col_name].isin(counts[counts > threshold].index), :].reset_index(\n",
    "        drop=True\n",
    "    )"
   ]
  },
  {
   "cell_type": "code",
   "execution_count": 18,
   "metadata": {},
   "outputs": [
    {
     "data": {
      "application/javascript": [
       "\n",
       "            setTimeout(function() {\n",
       "                var nbb_cell_id = 18;\n",
       "                var nbb_formatted_code = \"available_data = all_data[~all_data[\\\"Review Text\\\"].isna()]\";\n",
       "                var nbb_cells = Jupyter.notebook.get_cells();\n",
       "                for (var i = 0; i < nbb_cells.length; ++i) {\n",
       "                    if (nbb_cells[i].input_prompt_number == nbb_cell_id) {\n",
       "                        nbb_cells[i].set_text(nbb_formatted_code);\n",
       "                        break;\n",
       "                    }\n",
       "                }\n",
       "            }, 500);\n",
       "            "
      ],
      "text/plain": [
       "<IPython.core.display.Javascript object>"
      ]
     },
     "metadata": {},
     "output_type": "display_data"
    }
   ],
   "source": [
    "available_data = all_data[~all_data[\"Review Text\"].isna()]"
   ]
  },
  {
   "cell_type": "code",
   "execution_count": 19,
   "metadata": {},
   "outputs": [
    {
     "name": "stdout",
     "output_type": "stream",
     "text": [
      "<class 'pandas.core.frame.DataFrame'>\n",
      "Int64Index: 22641 entries, 0 to 23485\n",
      "Data columns (total 11 columns):\n",
      "Unnamed: 0                 22641 non-null int64\n",
      "Clothing ID                22641 non-null int64\n",
      "Age                        22641 non-null int64\n",
      "Title                      19675 non-null object\n",
      "Review Text                22641 non-null object\n",
      "Rating                     22641 non-null int64\n",
      "Recommended IND            22641 non-null int64\n",
      "Positive Feedback Count    22641 non-null int64\n",
      "Division Name              22628 non-null object\n",
      "Department Name            22628 non-null object\n",
      "Class Name                 22628 non-null object\n",
      "dtypes: int64(6), object(5)\n",
      "memory usage: 2.1+ MB\n"
     ]
    },
    {
     "data": {
      "application/javascript": [
       "\n",
       "            setTimeout(function() {\n",
       "                var nbb_cell_id = 19;\n",
       "                var nbb_formatted_code = \"available_data.info()\";\n",
       "                var nbb_cells = Jupyter.notebook.get_cells();\n",
       "                for (var i = 0; i < nbb_cells.length; ++i) {\n",
       "                    if (nbb_cells[i].input_prompt_number == nbb_cell_id) {\n",
       "                        nbb_cells[i].set_text(nbb_formatted_code);\n",
       "                        break;\n",
       "                    }\n",
       "                }\n",
       "            }, 500);\n",
       "            "
      ],
      "text/plain": [
       "<IPython.core.display.Javascript object>"
      ]
     },
     "metadata": {},
     "output_type": "display_data"
    }
   ],
   "source": [
    "available_data.info()"
   ]
  },
  {
   "cell_type": "code",
   "execution_count": 20,
   "metadata": {},
   "outputs": [
    {
     "data": {
      "application/javascript": [
       "\n",
       "            setTimeout(function() {\n",
       "                var nbb_cell_id = 20;\n",
       "                var nbb_formatted_code = \"available_data_bundle = DataBundle.from_dataframe(\\n    dataframe=available_data, x_col=\\\"Review Text\\\", y_col=\\\"Rating\\\"\\n)\";\n",
       "                var nbb_cells = Jupyter.notebook.get_cells();\n",
       "                for (var i = 0; i < nbb_cells.length; ++i) {\n",
       "                    if (nbb_cells[i].input_prompt_number == nbb_cell_id) {\n",
       "                        nbb_cells[i].set_text(nbb_formatted_code);\n",
       "                        break;\n",
       "                    }\n",
       "                }\n",
       "            }, 500);\n",
       "            "
      ],
      "text/plain": [
       "<IPython.core.display.Javascript object>"
      ]
     },
     "metadata": {},
     "output_type": "display_data"
    }
   ],
   "source": [
    "available_data_bundle = DataBundle.from_dataframe(\n",
    "    dataframe=available_data, x_col=\"Review Text\", y_col=\"Rating\"\n",
    ")"
   ]
  },
  {
   "cell_type": "code",
   "execution_count": 21,
   "metadata": {},
   "outputs": [
    {
     "data": {
      "application/javascript": [
       "\n",
       "            setTimeout(function() {\n",
       "                var nbb_cell_id = 21;\n",
       "                var nbb_formatted_code = \"train_data, valid_data, test_data = DataBundle.split(\\n    data_bundle=available_data_bundle, fracs=(0.8, 0.1, 0.1), random=False\\n)\";\n",
       "                var nbb_cells = Jupyter.notebook.get_cells();\n",
       "                for (var i = 0; i < nbb_cells.length; ++i) {\n",
       "                    if (nbb_cells[i].input_prompt_number == nbb_cell_id) {\n",
       "                        nbb_cells[i].set_text(nbb_formatted_code);\n",
       "                        break;\n",
       "                    }\n",
       "                }\n",
       "            }, 500);\n",
       "            "
      ],
      "text/plain": [
       "<IPython.core.display.Javascript object>"
      ]
     },
     "metadata": {},
     "output_type": "display_data"
    }
   ],
   "source": [
    "train_data, valid_data, test_data = DataBundle.split(\n",
    "    data_bundle=available_data_bundle, fracs=(0.8, 0.1, 0.1), random=False\n",
    ")"
   ]
  },
  {
   "cell_type": "code",
   "execution_count": 22,
   "metadata": {},
   "outputs": [
    {
     "data": {
      "application/javascript": [
       "\n",
       "            setTimeout(function() {\n",
       "                var nbb_cell_id = 22;\n",
       "                var nbb_formatted_code = \"label_map = train_data.make_label_map()\";\n",
       "                var nbb_cells = Jupyter.notebook.get_cells();\n",
       "                for (var i = 0; i < nbb_cells.length; ++i) {\n",
       "                    if (nbb_cells[i].input_prompt_number == nbb_cell_id) {\n",
       "                        nbb_cells[i].set_text(nbb_formatted_code);\n",
       "                        break;\n",
       "                    }\n",
       "                }\n",
       "            }, 500);\n",
       "            "
      ],
      "text/plain": [
       "<IPython.core.display.Javascript object>"
      ]
     },
     "metadata": {},
     "output_type": "display_data"
    }
   ],
   "source": [
    "label_map = train_data.make_label_map()"
   ]
  },
  {
   "cell_type": "code",
   "execution_count": 23,
   "metadata": {},
   "outputs": [
    {
     "data": {
      "text/plain": [
       "{1: 0, 2: 1, 3: 2, 4: 3, 5: 4}"
      ]
     },
     "execution_count": 23,
     "metadata": {},
     "output_type": "execute_result"
    },
    {
     "data": {
      "application/javascript": [
       "\n",
       "            setTimeout(function() {\n",
       "                var nbb_cell_id = 23;\n",
       "                var nbb_formatted_code = \"label_map\";\n",
       "                var nbb_cells = Jupyter.notebook.get_cells();\n",
       "                for (var i = 0; i < nbb_cells.length; ++i) {\n",
       "                    if (nbb_cells[i].input_prompt_number == nbb_cell_id) {\n",
       "                        nbb_cells[i].set_text(nbb_formatted_code);\n",
       "                        break;\n",
       "                    }\n",
       "                }\n",
       "            }, 500);\n",
       "            "
      ],
      "text/plain": [
       "<IPython.core.display.Javascript object>"
      ]
     },
     "metadata": {},
     "output_type": "display_data"
    }
   ],
   "source": [
    "label_map"
   ]
  },
  {
   "cell_type": "code",
   "execution_count": 24,
   "metadata": {},
   "outputs": [
    {
     "data": {
      "application/javascript": [
       "\n",
       "            setTimeout(function() {\n",
       "                var nbb_cell_id = 24;\n",
       "                var nbb_formatted_code = \"save_file(label_map, TEMP_DIR / \\\"label_map.pickle\\\")\";\n",
       "                var nbb_cells = Jupyter.notebook.get_cells();\n",
       "                for (var i = 0; i < nbb_cells.length; ++i) {\n",
       "                    if (nbb_cells[i].input_prompt_number == nbb_cell_id) {\n",
       "                        nbb_cells[i].set_text(nbb_formatted_code);\n",
       "                        break;\n",
       "                    }\n",
       "                }\n",
       "            }, 500);\n",
       "            "
      ],
      "text/plain": [
       "<IPython.core.display.Javascript object>"
      ]
     },
     "metadata": {},
     "output_type": "display_data"
    }
   ],
   "source": [
    "save_file(label_map, TEMP_DIR / \"label_map.pickle\")"
   ]
  },
  {
   "cell_type": "code",
   "execution_count": 25,
   "metadata": {},
   "outputs": [
    {
     "data": {
      "application/javascript": [
       "\n",
       "            setTimeout(function() {\n",
       "                var nbb_cell_id = 25;\n",
       "                var nbb_formatted_code = \"label_map = load_file(TEMP_DIR / \\\"label_map.pickle\\\")\";\n",
       "                var nbb_cells = Jupyter.notebook.get_cells();\n",
       "                for (var i = 0; i < nbb_cells.length; ++i) {\n",
       "                    if (nbb_cells[i].input_prompt_number == nbb_cell_id) {\n",
       "                        nbb_cells[i].set_text(nbb_formatted_code);\n",
       "                        break;\n",
       "                    }\n",
       "                }\n",
       "            }, 500);\n",
       "            "
      ],
      "text/plain": [
       "<IPython.core.display.Javascript object>"
      ]
     },
     "metadata": {},
     "output_type": "display_data"
    }
   ],
   "source": [
    "label_map = load_file(TEMP_DIR / \"label_map.pickle\")"
   ]
  },
  {
   "cell_type": "code",
   "execution_count": 26,
   "metadata": {},
   "outputs": [
    {
     "data": {
      "text/plain": [
       "{1: 0, 2: 1, 3: 2, 4: 3, 5: 4}"
      ]
     },
     "execution_count": 26,
     "metadata": {},
     "output_type": "execute_result"
    },
    {
     "data": {
      "application/javascript": [
       "\n",
       "            setTimeout(function() {\n",
       "                var nbb_cell_id = 26;\n",
       "                var nbb_formatted_code = \"label_map\";\n",
       "                var nbb_cells = Jupyter.notebook.get_cells();\n",
       "                for (var i = 0; i < nbb_cells.length; ++i) {\n",
       "                    if (nbb_cells[i].input_prompt_number == nbb_cell_id) {\n",
       "                        nbb_cells[i].set_text(nbb_formatted_code);\n",
       "                        break;\n",
       "                    }\n",
       "                }\n",
       "            }, 500);\n",
       "            "
      ],
      "text/plain": [
       "<IPython.core.display.Javascript object>"
      ]
     },
     "metadata": {},
     "output_type": "display_data"
    }
   ],
   "source": [
    "label_map"
   ]
  },
  {
   "cell_type": "code",
   "execution_count": 27,
   "metadata": {},
   "outputs": [
    {
     "data": {
      "application/javascript": [
       "\n",
       "            setTimeout(function() {\n",
       "                var nbb_cell_id = 27;\n",
       "                var nbb_formatted_code = \"train_data.apply_label_map(label_map)\";\n",
       "                var nbb_cells = Jupyter.notebook.get_cells();\n",
       "                for (var i = 0; i < nbb_cells.length; ++i) {\n",
       "                    if (nbb_cells[i].input_prompt_number == nbb_cell_id) {\n",
       "                        nbb_cells[i].set_text(nbb_formatted_code);\n",
       "                        break;\n",
       "                    }\n",
       "                }\n",
       "            }, 500);\n",
       "            "
      ],
      "text/plain": [
       "<IPython.core.display.Javascript object>"
      ]
     },
     "metadata": {},
     "output_type": "display_data"
    }
   ],
   "source": [
    "train_data.apply_label_map(label_map)"
   ]
  },
  {
   "cell_type": "code",
   "execution_count": 28,
   "metadata": {},
   "outputs": [
    {
     "data": {
      "application/javascript": [
       "\n",
       "            setTimeout(function() {\n",
       "                var nbb_cell_id = 28;\n",
       "                var nbb_formatted_code = \"valid_data.apply_label_map(label_map)\";\n",
       "                var nbb_cells = Jupyter.notebook.get_cells();\n",
       "                for (var i = 0; i < nbb_cells.length; ++i) {\n",
       "                    if (nbb_cells[i].input_prompt_number == nbb_cell_id) {\n",
       "                        nbb_cells[i].set_text(nbb_formatted_code);\n",
       "                        break;\n",
       "                    }\n",
       "                }\n",
       "            }, 500);\n",
       "            "
      ],
      "text/plain": [
       "<IPython.core.display.Javascript object>"
      ]
     },
     "metadata": {},
     "output_type": "display_data"
    }
   ],
   "source": [
    "valid_data.apply_label_map(label_map)"
   ]
  },
  {
   "cell_type": "code",
   "execution_count": 29,
   "metadata": {},
   "outputs": [
    {
     "data": {
      "application/javascript": [
       "\n",
       "            setTimeout(function() {\n",
       "                var nbb_cell_id = 29;\n",
       "                var nbb_formatted_code = \"test_data.apply_label_map(label_map)\";\n",
       "                var nbb_cells = Jupyter.notebook.get_cells();\n",
       "                for (var i = 0; i < nbb_cells.length; ++i) {\n",
       "                    if (nbb_cells[i].input_prompt_number == nbb_cell_id) {\n",
       "                        nbb_cells[i].set_text(nbb_formatted_code);\n",
       "                        break;\n",
       "                    }\n",
       "                }\n",
       "            }, 500);\n",
       "            "
      ],
      "text/plain": [
       "<IPython.core.display.Javascript object>"
      ]
     },
     "metadata": {},
     "output_type": "display_data"
    }
   ],
   "source": [
    "test_data.apply_label_map(label_map)"
   ]
  },
  {
   "cell_type": "code",
   "execution_count": 30,
   "metadata": {},
   "outputs": [
    {
     "data": {
      "text/plain": [
       "{0: 653, 1: 1241, 2: 2278, 3: 3861, 4: 10080}"
      ]
     },
     "execution_count": 30,
     "metadata": {},
     "output_type": "execute_result"
    },
    {
     "data": {
      "application/javascript": [
       "\n",
       "            setTimeout(function() {\n",
       "                var nbb_cell_id = 30;\n",
       "                var nbb_formatted_code = \"train_data.value_counts()\";\n",
       "                var nbb_cells = Jupyter.notebook.get_cells();\n",
       "                for (var i = 0; i < nbb_cells.length; ++i) {\n",
       "                    if (nbb_cells[i].input_prompt_number == nbb_cell_id) {\n",
       "                        nbb_cells[i].set_text(nbb_formatted_code);\n",
       "                        break;\n",
       "                    }\n",
       "                }\n",
       "            }, 500);\n",
       "            "
      ],
      "text/plain": [
       "<IPython.core.display.Javascript object>"
      ]
     },
     "metadata": {},
     "output_type": "display_data"
    }
   ],
   "source": [
    "train_data.value_counts()"
   ]
  },
  {
   "cell_type": "code",
   "execution_count": null,
   "metadata": {},
   "outputs": [],
   "source": [
    "# {0: 653, 1: 1241, 2: 2278, 3: 3861, 4: 10080}"
   ]
  },
  {
   "cell_type": "code",
   "execution_count": 31,
   "metadata": {},
   "outputs": [
    {
     "data": {
      "application/javascript": [
       "\n",
       "            setTimeout(function() {\n",
       "                var nbb_cell_id = 31;\n",
       "                var nbb_formatted_code = \"class_weights = dict(\\n    enumerate(\\n        sk.utils.class_weight.compute_class_weight(\\n            \\\"balanced\\\", np.unique(train_data.y), train_data.y\\n        )\\n    )\\n)\";\n",
       "                var nbb_cells = Jupyter.notebook.get_cells();\n",
       "                for (var i = 0; i < nbb_cells.length; ++i) {\n",
       "                    if (nbb_cells[i].input_prompt_number == nbb_cell_id) {\n",
       "                        nbb_cells[i].set_text(nbb_formatted_code);\n",
       "                        break;\n",
       "                    }\n",
       "                }\n",
       "            }, 500);\n",
       "            "
      ],
      "text/plain": [
       "<IPython.core.display.Javascript object>"
      ]
     },
     "metadata": {},
     "output_type": "display_data"
    }
   ],
   "source": [
    "class_weights = dict(\n",
    "    enumerate(\n",
    "        sk.utils.class_weight.compute_class_weight(\n",
    "            \"balanced\", np.unique(train_data.y), train_data.y\n",
    "        )\n",
    "    )\n",
    ")"
   ]
  },
  {
   "cell_type": "code",
   "execution_count": 32,
   "metadata": {},
   "outputs": [
    {
     "data": {
      "text/plain": [
       "{0: 5.547626339969372,\n",
       " 1: 2.9190975020145045,\n",
       " 2: 1.5902546093064092,\n",
       " 3: 0.9382543382543382,\n",
       " 4: 0.3593849206349206}"
      ]
     },
     "execution_count": 32,
     "metadata": {},
     "output_type": "execute_result"
    },
    {
     "data": {
      "application/javascript": [
       "\n",
       "            setTimeout(function() {\n",
       "                var nbb_cell_id = 32;\n",
       "                var nbb_formatted_code = \"class_weights\";\n",
       "                var nbb_cells = Jupyter.notebook.get_cells();\n",
       "                for (var i = 0; i < nbb_cells.length; ++i) {\n",
       "                    if (nbb_cells[i].input_prompt_number == nbb_cell_id) {\n",
       "                        nbb_cells[i].set_text(nbb_formatted_code);\n",
       "                        break;\n",
       "                    }\n",
       "                }\n",
       "            }, 500);\n",
       "            "
      ],
      "text/plain": [
       "<IPython.core.display.Javascript object>"
      ]
     },
     "metadata": {},
     "output_type": "display_data"
    }
   ],
   "source": [
    "class_weights"
   ]
  },
  {
   "cell_type": "code",
   "execution_count": 33,
   "metadata": {},
   "outputs": [
    {
     "data": {
      "application/javascript": [
       "\n",
       "            setTimeout(function() {\n",
       "                var nbb_cell_id = 33;\n",
       "                var nbb_formatted_code = \"train_data = DataBundle.from_unbalanced(train_data, 5000, train_data.value_counts())\";\n",
       "                var nbb_cells = Jupyter.notebook.get_cells();\n",
       "                for (var i = 0; i < nbb_cells.length; ++i) {\n",
       "                    if (nbb_cells[i].input_prompt_number == nbb_cell_id) {\n",
       "                        nbb_cells[i].set_text(nbb_formatted_code);\n",
       "                        break;\n",
       "                    }\n",
       "                }\n",
       "            }, 500);\n",
       "            "
      ],
      "text/plain": [
       "<IPython.core.display.Javascript object>"
      ]
     },
     "metadata": {},
     "output_type": "display_data"
    }
   ],
   "source": [
    "train_data = DataBundle.from_unbalanced(train_data, 5000, train_data.value_counts())"
   ]
  },
  {
   "cell_type": "code",
   "execution_count": 34,
   "metadata": {},
   "outputs": [
    {
     "data": {
      "text/plain": [
       "{0: 5000, 1: 5000, 2: 5000, 3: 5000, 4: 5000}"
      ]
     },
     "execution_count": 34,
     "metadata": {},
     "output_type": "execute_result"
    },
    {
     "data": {
      "application/javascript": [
       "\n",
       "            setTimeout(function() {\n",
       "                var nbb_cell_id = 34;\n",
       "                var nbb_formatted_code = \"train_data.value_counts()\";\n",
       "                var nbb_cells = Jupyter.notebook.get_cells();\n",
       "                for (var i = 0; i < nbb_cells.length; ++i) {\n",
       "                    if (nbb_cells[i].input_prompt_number == nbb_cell_id) {\n",
       "                        nbb_cells[i].set_text(nbb_formatted_code);\n",
       "                        break;\n",
       "                    }\n",
       "                }\n",
       "            }, 500);\n",
       "            "
      ],
      "text/plain": [
       "<IPython.core.display.Javascript object>"
      ]
     },
     "metadata": {},
     "output_type": "display_data"
    }
   ],
   "source": [
    "train_data.value_counts()"
   ]
  },
  {
   "cell_type": "code",
   "execution_count": 35,
   "metadata": {},
   "outputs": [
    {
     "data": {
      "application/javascript": [
       "\n",
       "            setTimeout(function() {\n",
       "                var nbb_cell_id = 35;\n",
       "                var nbb_formatted_code = \"@attr.s(auto_attribs=True)\\nclass TextPreprocessor:\\n    max_length: int = 100\\n    default_value: str = b\\\"<pad>\\\"\\n\\n    def __call__(self, text: tf.Tensor, label: tf.Tensor) -> tf.Tensor:\\n        text = tf.strings.regex_replace(text, b\\\"[^a-zA-Z']\\\", b\\\" \\\")\\n        text = tf.strings.split(text)\\n        text = text[:, : self.max_length]\\n        return text.to_tensor(default_value=self.default_value), label\";\n",
       "                var nbb_cells = Jupyter.notebook.get_cells();\n",
       "                for (var i = 0; i < nbb_cells.length; ++i) {\n",
       "                    if (nbb_cells[i].input_prompt_number == nbb_cell_id) {\n",
       "                        nbb_cells[i].set_text(nbb_formatted_code);\n",
       "                        break;\n",
       "                    }\n",
       "                }\n",
       "            }, 500);\n",
       "            "
      ],
      "text/plain": [
       "<IPython.core.display.Javascript object>"
      ]
     },
     "metadata": {},
     "output_type": "display_data"
    }
   ],
   "source": [
    "@attr.s(auto_attribs=True)\n",
    "class TextPreprocessor:\n",
    "    max_length: int = 100\n",
    "    default_value: str = b\"<pad>\"\n",
    "\n",
    "    def __call__(self, text: tf.Tensor, label: tf.Tensor) -> tf.Tensor:\n",
    "        text = tf.strings.regex_replace(text, b\"[^a-zA-Z']\", b\" \")\n",
    "        text = tf.strings.split(text)\n",
    "        text = text[:, : self.max_length]\n",
    "        return text.to_tensor(default_value=self.default_value), label"
   ]
  },
  {
   "cell_type": "code",
   "execution_count": 36,
   "metadata": {},
   "outputs": [
    {
     "data": {
      "application/javascript": [
       "\n",
       "            setTimeout(function() {\n",
       "                var nbb_cell_id = 36;\n",
       "                var nbb_formatted_code = \"base_dataset = (\\n    train_data.to_dataset()\\n    .shuffle(len(train_data))\\n    .batch(BATCH_SIZE)\\n    .map(TextPreprocessor(), num_parallel_calls=AUTOTUNE)\\n)\";\n",
       "                var nbb_cells = Jupyter.notebook.get_cells();\n",
       "                for (var i = 0; i < nbb_cells.length; ++i) {\n",
       "                    if (nbb_cells[i].input_prompt_number == nbb_cell_id) {\n",
       "                        nbb_cells[i].set_text(nbb_formatted_code);\n",
       "                        break;\n",
       "                    }\n",
       "                }\n",
       "            }, 500);\n",
       "            "
      ],
      "text/plain": [
       "<IPython.core.display.Javascript object>"
      ]
     },
     "metadata": {},
     "output_type": "display_data"
    }
   ],
   "source": [
    "base_dataset = (\n",
    "    train_data.to_dataset()\n",
    "    .shuffle(len(train_data))\n",
    "    .batch(BATCH_SIZE)\n",
    "    .map(TextPreprocessor(), num_parallel_calls=AUTOTUNE)\n",
    ")"
   ]
  },
  {
   "cell_type": "code",
   "execution_count": 37,
   "metadata": {},
   "outputs": [
    {
     "data": {
      "application/javascript": [
       "\n",
       "            setTimeout(function() {\n",
       "                var nbb_cell_id = 37;\n",
       "                var nbb_formatted_code = \"def make_vocabulary(dataset):\\n    vocabulary = Counter()\\n    for x, _ in dataset:\\n        for review in x:\\n            vocabulary.update(review.numpy().tolist())\\n    return vocabulary\";\n",
       "                var nbb_cells = Jupyter.notebook.get_cells();\n",
       "                for (var i = 0; i < nbb_cells.length; ++i) {\n",
       "                    if (nbb_cells[i].input_prompt_number == nbb_cell_id) {\n",
       "                        nbb_cells[i].set_text(nbb_formatted_code);\n",
       "                        break;\n",
       "                    }\n",
       "                }\n",
       "            }, 500);\n",
       "            "
      ],
      "text/plain": [
       "<IPython.core.display.Javascript object>"
      ]
     },
     "metadata": {},
     "output_type": "display_data"
    }
   ],
   "source": [
    "def make_vocabulary(dataset):\n",
    "    vocabulary = Counter()\n",
    "    for x, _ in dataset:\n",
    "        for review in x:\n",
    "            vocabulary.update(review.numpy().tolist())\n",
    "    return vocabulary"
   ]
  },
  {
   "cell_type": "code",
   "execution_count": 38,
   "metadata": {},
   "outputs": [
    {
     "data": {
      "application/javascript": [
       "\n",
       "            setTimeout(function() {\n",
       "                var nbb_cell_id = 38;\n",
       "                var nbb_formatted_code = \"vocabulary = make_vocabulary(base_dataset)\";\n",
       "                var nbb_cells = Jupyter.notebook.get_cells();\n",
       "                for (var i = 0; i < nbb_cells.length; ++i) {\n",
       "                    if (nbb_cells[i].input_prompt_number == nbb_cell_id) {\n",
       "                        nbb_cells[i].set_text(nbb_formatted_code);\n",
       "                        break;\n",
       "                    }\n",
       "                }\n",
       "            }, 500);\n",
       "            "
      ],
      "text/plain": [
       "<IPython.core.display.Javascript object>"
      ]
     },
     "metadata": {},
     "output_type": "display_data"
    }
   ],
   "source": [
    "vocabulary = make_vocabulary(base_dataset)"
   ]
  },
  {
   "cell_type": "code",
   "execution_count": 39,
   "metadata": {},
   "outputs": [
    {
     "data": {
      "text/plain": [
       "11311"
      ]
     },
     "execution_count": 39,
     "metadata": {},
     "output_type": "execute_result"
    },
    {
     "data": {
      "application/javascript": [
       "\n",
       "            setTimeout(function() {\n",
       "                var nbb_cell_id = 39;\n",
       "                var nbb_formatted_code = \"len(vocabulary)\";\n",
       "                var nbb_cells = Jupyter.notebook.get_cells();\n",
       "                for (var i = 0; i < nbb_cells.length; ++i) {\n",
       "                    if (nbb_cells[i].input_prompt_number == nbb_cell_id) {\n",
       "                        nbb_cells[i].set_text(nbb_formatted_code);\n",
       "                        break;\n",
       "                    }\n",
       "                }\n",
       "            }, 500);\n",
       "            "
      ],
      "text/plain": [
       "<IPython.core.display.Javascript object>"
      ]
     },
     "metadata": {},
     "output_type": "display_data"
    }
   ],
   "source": [
    "len(vocabulary)"
   ]
  },
  {
   "cell_type": "code",
   "execution_count": 40,
   "metadata": {},
   "outputs": [
    {
     "data": {
      "text/plain": [
       "[(b'<pad>', 978354),\n",
       " (b'the', 89899),\n",
       " (b'i', 55026),\n",
       " (b'and', 51535),\n",
       " (b'it', 48626),\n",
       " (b'a', 45188),\n",
       " (b'is', 31933),\n",
       " (b'to', 27454),\n",
       " (b'this', 24139),\n",
       " (b'in', 22994)]"
      ]
     },
     "execution_count": 40,
     "metadata": {},
     "output_type": "execute_result"
    },
    {
     "data": {
      "application/javascript": [
       "\n",
       "            setTimeout(function() {\n",
       "                var nbb_cell_id = 40;\n",
       "                var nbb_formatted_code = \"vocabulary.most_common()[:10]\";\n",
       "                var nbb_cells = Jupyter.notebook.get_cells();\n",
       "                for (var i = 0; i < nbb_cells.length; ++i) {\n",
       "                    if (nbb_cells[i].input_prompt_number == nbb_cell_id) {\n",
       "                        nbb_cells[i].set_text(nbb_formatted_code);\n",
       "                        break;\n",
       "                    }\n",
       "                }\n",
       "            }, 500);\n",
       "            "
      ],
      "text/plain": [
       "<IPython.core.display.Javascript object>"
      ]
     },
     "metadata": {},
     "output_type": "display_data"
    }
   ],
   "source": [
    "vocabulary.most_common()[:10]"
   ]
  },
  {
   "cell_type": "code",
   "execution_count": 41,
   "metadata": {},
   "outputs": [
    {
     "data": {
      "application/javascript": [
       "\n",
       "            setTimeout(function() {\n",
       "                var nbb_cell_id = 41;\n",
       "                var nbb_formatted_code = \"VOCABULARY_SIZE = 9000\";\n",
       "                var nbb_cells = Jupyter.notebook.get_cells();\n",
       "                for (var i = 0; i < nbb_cells.length; ++i) {\n",
       "                    if (nbb_cells[i].input_prompt_number == nbb_cell_id) {\n",
       "                        nbb_cells[i].set_text(nbb_formatted_code);\n",
       "                        break;\n",
       "                    }\n",
       "                }\n",
       "            }, 500);\n",
       "            "
      ],
      "text/plain": [
       "<IPython.core.display.Javascript object>"
      ]
     },
     "metadata": {},
     "output_type": "display_data"
    }
   ],
   "source": [
    "VOCABULARY_SIZE = 9000"
   ]
  },
  {
   "cell_type": "code",
   "execution_count": 42,
   "metadata": {},
   "outputs": [
    {
     "data": {
      "application/javascript": [
       "\n",
       "            setTimeout(function() {\n",
       "                var nbb_cell_id = 42;\n",
       "                var nbb_formatted_code = \"truncated_vocabulary = [\\n    word for word, count in vocabulary.most_common()[:VOCABULARY_SIZE]\\n]\";\n",
       "                var nbb_cells = Jupyter.notebook.get_cells();\n",
       "                for (var i = 0; i < nbb_cells.length; ++i) {\n",
       "                    if (nbb_cells[i].input_prompt_number == nbb_cell_id) {\n",
       "                        nbb_cells[i].set_text(nbb_formatted_code);\n",
       "                        break;\n",
       "                    }\n",
       "                }\n",
       "            }, 500);\n",
       "            "
      ],
      "text/plain": [
       "<IPython.core.display.Javascript object>"
      ]
     },
     "metadata": {},
     "output_type": "display_data"
    }
   ],
   "source": [
    "truncated_vocabulary = [\n",
    "    word for word, count in vocabulary.most_common()[:VOCABULARY_SIZE]\n",
    "]"
   ]
  },
  {
   "cell_type": "code",
   "execution_count": 43,
   "metadata": {},
   "outputs": [
    {
     "data": {
      "text/plain": [
       "9000"
      ]
     },
     "execution_count": 43,
     "metadata": {},
     "output_type": "execute_result"
    },
    {
     "data": {
      "application/javascript": [
       "\n",
       "            setTimeout(function() {\n",
       "                var nbb_cell_id = 43;\n",
       "                var nbb_formatted_code = \"len(truncated_vocabulary)\";\n",
       "                var nbb_cells = Jupyter.notebook.get_cells();\n",
       "                for (var i = 0; i < nbb_cells.length; ++i) {\n",
       "                    if (nbb_cells[i].input_prompt_number == nbb_cell_id) {\n",
       "                        nbb_cells[i].set_text(nbb_formatted_code);\n",
       "                        break;\n",
       "                    }\n",
       "                }\n",
       "            }, 500);\n",
       "            "
      ],
      "text/plain": [
       "<IPython.core.display.Javascript object>"
      ]
     },
     "metadata": {},
     "output_type": "display_data"
    }
   ],
   "source": [
    "len(truncated_vocabulary)"
   ]
  },
  {
   "cell_type": "code",
   "execution_count": 44,
   "metadata": {},
   "outputs": [
    {
     "data": {
      "application/javascript": [
       "\n",
       "            setTimeout(function() {\n",
       "                var nbb_cell_id = 44;\n",
       "                var nbb_formatted_code = \"word_to_id = {word: index for index, word in enumerate(truncated_vocabulary)}\";\n",
       "                var nbb_cells = Jupyter.notebook.get_cells();\n",
       "                for (var i = 0; i < nbb_cells.length; ++i) {\n",
       "                    if (nbb_cells[i].input_prompt_number == nbb_cell_id) {\n",
       "                        nbb_cells[i].set_text(nbb_formatted_code);\n",
       "                        break;\n",
       "                    }\n",
       "                }\n",
       "            }, 500);\n",
       "            "
      ],
      "text/plain": [
       "<IPython.core.display.Javascript object>"
      ]
     },
     "metadata": {},
     "output_type": "display_data"
    }
   ],
   "source": [
    "word_to_id = {word: index for index, word in enumerate(truncated_vocabulary)}"
   ]
  },
  {
   "cell_type": "code",
   "execution_count": 45,
   "metadata": {},
   "outputs": [
    {
     "name": "stdout",
     "output_type": "stream",
     "text": [
      "4\n",
      "11\n",
      "1\n",
      "282\n",
      "490\n",
      "17\n"
     ]
    },
    {
     "data": {
      "application/javascript": [
       "\n",
       "            setTimeout(function() {\n",
       "                var nbb_cell_id = 45;\n",
       "                var nbb_formatted_code = \"for word in b\\\"it was the most amazing dress\\\".split():\\n    print(word_to_id.get(word) if word_to_id.get(word) is not None else VOCABULARY_SIZE)\";\n",
       "                var nbb_cells = Jupyter.notebook.get_cells();\n",
       "                for (var i = 0; i < nbb_cells.length; ++i) {\n",
       "                    if (nbb_cells[i].input_prompt_number == nbb_cell_id) {\n",
       "                        nbb_cells[i].set_text(nbb_formatted_code);\n",
       "                        break;\n",
       "                    }\n",
       "                }\n",
       "            }, 500);\n",
       "            "
      ],
      "text/plain": [
       "<IPython.core.display.Javascript object>"
      ]
     },
     "metadata": {},
     "output_type": "display_data"
    }
   ],
   "source": [
    "for word in b\"it was the most amazing dress\".split():\n",
    "    print(word_to_id.get(word) if word_to_id.get(word) is not None else VOCABULARY_SIZE)"
   ]
  },
  {
   "cell_type": "code",
   "execution_count": 46,
   "metadata": {},
   "outputs": [
    {
     "data": {
      "application/javascript": [
       "\n",
       "            setTimeout(function() {\n",
       "                var nbb_cell_id = 46;\n",
       "                var nbb_formatted_code = \"words = tf.constant(truncated_vocabulary)\";\n",
       "                var nbb_cells = Jupyter.notebook.get_cells();\n",
       "                for (var i = 0; i < nbb_cells.length; ++i) {\n",
       "                    if (nbb_cells[i].input_prompt_number == nbb_cell_id) {\n",
       "                        nbb_cells[i].set_text(nbb_formatted_code);\n",
       "                        break;\n",
       "                    }\n",
       "                }\n",
       "            }, 500);\n",
       "            "
      ],
      "text/plain": [
       "<IPython.core.display.Javascript object>"
      ]
     },
     "metadata": {},
     "output_type": "display_data"
    }
   ],
   "source": [
    "words = tf.constant(truncated_vocabulary)"
   ]
  },
  {
   "cell_type": "code",
   "execution_count": 47,
   "metadata": {},
   "outputs": [
    {
     "data": {
      "application/javascript": [
       "\n",
       "            setTimeout(function() {\n",
       "                var nbb_cell_id = 47;\n",
       "                var nbb_formatted_code = \"word_ids = tf.range(len(truncated_vocabulary), dtype=tf.int64)\";\n",
       "                var nbb_cells = Jupyter.notebook.get_cells();\n",
       "                for (var i = 0; i < nbb_cells.length; ++i) {\n",
       "                    if (nbb_cells[i].input_prompt_number == nbb_cell_id) {\n",
       "                        nbb_cells[i].set_text(nbb_formatted_code);\n",
       "                        break;\n",
       "                    }\n",
       "                }\n",
       "            }, 500);\n",
       "            "
      ],
      "text/plain": [
       "<IPython.core.display.Javascript object>"
      ]
     },
     "metadata": {},
     "output_type": "display_data"
    }
   ],
   "source": [
    "word_ids = tf.range(len(truncated_vocabulary), dtype=tf.int64)"
   ]
  },
  {
   "cell_type": "code",
   "execution_count": 48,
   "metadata": {},
   "outputs": [
    {
     "data": {
      "application/javascript": [
       "\n",
       "            setTimeout(function() {\n",
       "                var nbb_cell_id = 48;\n",
       "                var nbb_formatted_code = \"n_oov_buckets = VOCABULARY_SIZE // 10\";\n",
       "                var nbb_cells = Jupyter.notebook.get_cells();\n",
       "                for (var i = 0; i < nbb_cells.length; ++i) {\n",
       "                    if (nbb_cells[i].input_prompt_number == nbb_cell_id) {\n",
       "                        nbb_cells[i].set_text(nbb_formatted_code);\n",
       "                        break;\n",
       "                    }\n",
       "                }\n",
       "            }, 500);\n",
       "            "
      ],
      "text/plain": [
       "<IPython.core.display.Javascript object>"
      ]
     },
     "metadata": {},
     "output_type": "display_data"
    }
   ],
   "source": [
    "n_oov_buckets = VOCABULARY_SIZE // 10"
   ]
  },
  {
   "cell_type": "code",
   "execution_count": 49,
   "metadata": {},
   "outputs": [
    {
     "data": {
      "text/plain": [
       "900"
      ]
     },
     "execution_count": 49,
     "metadata": {},
     "output_type": "execute_result"
    },
    {
     "data": {
      "application/javascript": [
       "\n",
       "            setTimeout(function() {\n",
       "                var nbb_cell_id = 49;\n",
       "                var nbb_formatted_code = \"n_oov_buckets\";\n",
       "                var nbb_cells = Jupyter.notebook.get_cells();\n",
       "                for (var i = 0; i < nbb_cells.length; ++i) {\n",
       "                    if (nbb_cells[i].input_prompt_number == nbb_cell_id) {\n",
       "                        nbb_cells[i].set_text(nbb_formatted_code);\n",
       "                        break;\n",
       "                    }\n",
       "                }\n",
       "            }, 500);\n",
       "            "
      ],
      "text/plain": [
       "<IPython.core.display.Javascript object>"
      ]
     },
     "metadata": {},
     "output_type": "display_data"
    }
   ],
   "source": [
    "n_oov_buckets"
   ]
  },
  {
   "cell_type": "code",
   "execution_count": 50,
   "metadata": {},
   "outputs": [
    {
     "data": {
      "application/javascript": [
       "\n",
       "            setTimeout(function() {\n",
       "                var nbb_cell_id = 50;\n",
       "                var nbb_formatted_code = \"table = tf.lookup.StaticVocabularyTable(\\n    tf.lookup.KeyValueTensorInitializer(words, word_ids), n_oov_buckets\\n)\";\n",
       "                var nbb_cells = Jupyter.notebook.get_cells();\n",
       "                for (var i = 0; i < nbb_cells.length; ++i) {\n",
       "                    if (nbb_cells[i].input_prompt_number == nbb_cell_id) {\n",
       "                        nbb_cells[i].set_text(nbb_formatted_code);\n",
       "                        break;\n",
       "                    }\n",
       "                }\n",
       "            }, 500);\n",
       "            "
      ],
      "text/plain": [
       "<IPython.core.display.Javascript object>"
      ]
     },
     "metadata": {},
     "output_type": "display_data"
    }
   ],
   "source": [
    "table = tf.lookup.StaticVocabularyTable(\n",
    "    tf.lookup.KeyValueTensorInitializer(words, word_ids), n_oov_buckets\n",
    ")"
   ]
  },
  {
   "cell_type": "code",
   "execution_count": 51,
   "metadata": {},
   "outputs": [
    {
     "data": {
      "text/plain": [
       "<tf.Tensor: id=101732, shape=(1, 5), dtype=int64, numpy=array([[ 369, 1235,   30,   24, 9781]])>"
      ]
     },
     "execution_count": 51,
     "metadata": {},
     "output_type": "execute_result"
    },
    {
     "data": {
      "application/javascript": [
       "\n",
       "            setTimeout(function() {\n",
       "                var nbb_cell_id = 51;\n",
       "                var nbb_formatted_code = \"table.lookup(tf.constant([b\\\"These shoes are very patogus\\\".split()]))\";\n",
       "                var nbb_cells = Jupyter.notebook.get_cells();\n",
       "                for (var i = 0; i < nbb_cells.length; ++i) {\n",
       "                    if (nbb_cells[i].input_prompt_number == nbb_cell_id) {\n",
       "                        nbb_cells[i].set_text(nbb_formatted_code);\n",
       "                        break;\n",
       "                    }\n",
       "                }\n",
       "            }, 500);\n",
       "            "
      ],
      "text/plain": [
       "<IPython.core.display.Javascript object>"
      ]
     },
     "metadata": {},
     "output_type": "display_data"
    }
   ],
   "source": [
    "table.lookup(tf.constant([b\"These shoes are very patogus\".split()]))"
   ]
  },
  {
   "cell_type": "code",
   "execution_count": 52,
   "metadata": {},
   "outputs": [
    {
     "data": {
      "application/javascript": [
       "\n",
       "            setTimeout(function() {\n",
       "                var nbb_cell_id = 52;\n",
       "                var nbb_formatted_code = \"@attr.s(auto_attribs=True)\\nclass WordEncoder:\\n    vocabulary_table: tf.lookup.StaticVocabularyTable\\n\\n    def __call__(self, text: tf.Tensor, labels: tf.Tensor) -> tf.Tensor:\\n        return self.vocabulary_table.lookup(text), labels\";\n",
       "                var nbb_cells = Jupyter.notebook.get_cells();\n",
       "                for (var i = 0; i < nbb_cells.length; ++i) {\n",
       "                    if (nbb_cells[i].input_prompt_number == nbb_cell_id) {\n",
       "                        nbb_cells[i].set_text(nbb_formatted_code);\n",
       "                        break;\n",
       "                    }\n",
       "                }\n",
       "            }, 500);\n",
       "            "
      ],
      "text/plain": [
       "<IPython.core.display.Javascript object>"
      ]
     },
     "metadata": {},
     "output_type": "display_data"
    }
   ],
   "source": [
    "@attr.s(auto_attribs=True)\n",
    "class WordEncoder:\n",
    "    vocabulary_table: tf.lookup.StaticVocabularyTable\n",
    "\n",
    "    def __call__(self, text: tf.Tensor, labels: tf.Tensor) -> tf.Tensor:\n",
    "        return self.vocabulary_table.lookup(text), labels"
   ]
  },
  {
   "cell_type": "code",
   "execution_count": 53,
   "metadata": {},
   "outputs": [
    {
     "data": {
      "application/javascript": [
       "\n",
       "            setTimeout(function() {\n",
       "                var nbb_cell_id = 53;\n",
       "                var nbb_formatted_code = \"train_dataset = (\\n    train_data.to_dataset()\\n    .shuffle(len(train_data))\\n    .batch(BATCH_SIZE)\\n    .map(TextPreprocessor(), num_parallel_calls=AUTOTUNE)\\n    .map(WordEncoder(vocabulary_table=table), num_parallel_calls=AUTOTUNE)\\n    .cache()\\n    .repeat()\\n    .prefetch(AUTOTUNE)\\n)\";\n",
       "                var nbb_cells = Jupyter.notebook.get_cells();\n",
       "                for (var i = 0; i < nbb_cells.length; ++i) {\n",
       "                    if (nbb_cells[i].input_prompt_number == nbb_cell_id) {\n",
       "                        nbb_cells[i].set_text(nbb_formatted_code);\n",
       "                        break;\n",
       "                    }\n",
       "                }\n",
       "            }, 500);\n",
       "            "
      ],
      "text/plain": [
       "<IPython.core.display.Javascript object>"
      ]
     },
     "metadata": {},
     "output_type": "display_data"
    }
   ],
   "source": [
    "train_dataset = (\n",
    "    train_data.to_dataset()\n",
    "    .shuffle(len(train_data))\n",
    "    .batch(BATCH_SIZE)\n",
    "    .map(TextPreprocessor(), num_parallel_calls=AUTOTUNE)\n",
    "    .map(WordEncoder(vocabulary_table=table), num_parallel_calls=AUTOTUNE)\n",
    "    .cache()\n",
    "    .repeat()\n",
    "    .prefetch(AUTOTUNE)\n",
    ")"
   ]
  },
  {
   "cell_type": "code",
   "execution_count": 54,
   "metadata": {},
   "outputs": [
    {
     "data": {
      "application/javascript": [
       "\n",
       "            setTimeout(function() {\n",
       "                var nbb_cell_id = 54;\n",
       "                var nbb_formatted_code = \"valid_dataset = (\\n    valid_data.to_dataset()\\n    .batch(BATCH_SIZE)\\n    .map(TextPreprocessor(), num_parallel_calls=AUTOTUNE)\\n    .map(WordEncoder(vocabulary_table=table), num_parallel_calls=AUTOTUNE)\\n    .cache()\\n    .prefetch(AUTOTUNE)\\n)\";\n",
       "                var nbb_cells = Jupyter.notebook.get_cells();\n",
       "                for (var i = 0; i < nbb_cells.length; ++i) {\n",
       "                    if (nbb_cells[i].input_prompt_number == nbb_cell_id) {\n",
       "                        nbb_cells[i].set_text(nbb_formatted_code);\n",
       "                        break;\n",
       "                    }\n",
       "                }\n",
       "            }, 500);\n",
       "            "
      ],
      "text/plain": [
       "<IPython.core.display.Javascript object>"
      ]
     },
     "metadata": {},
     "output_type": "display_data"
    }
   ],
   "source": [
    "valid_dataset = (\n",
    "    valid_data.to_dataset()\n",
    "    .batch(BATCH_SIZE)\n",
    "    .map(TextPreprocessor(), num_parallel_calls=AUTOTUNE)\n",
    "    .map(WordEncoder(vocabulary_table=table), num_parallel_calls=AUTOTUNE)\n",
    "    .cache()\n",
    "    .prefetch(AUTOTUNE)\n",
    ")"
   ]
  },
  {
   "cell_type": "code",
   "execution_count": 55,
   "metadata": {},
   "outputs": [
    {
     "data": {
      "application/javascript": [
       "\n",
       "            setTimeout(function() {\n",
       "                var nbb_cell_id = 55;\n",
       "                var nbb_formatted_code = \"test_dataset = (\\n    test_data.to_dataset()\\n    .batch(BATCH_SIZE)\\n    .map(TextPreprocessor(), num_parallel_calls=AUTOTUNE)\\n    .map(WordEncoder(vocabulary_table=table), num_parallel_calls=AUTOTUNE)\\n    .cache()\\n    .prefetch(AUTOTUNE)\\n)\";\n",
       "                var nbb_cells = Jupyter.notebook.get_cells();\n",
       "                for (var i = 0; i < nbb_cells.length; ++i) {\n",
       "                    if (nbb_cells[i].input_prompt_number == nbb_cell_id) {\n",
       "                        nbb_cells[i].set_text(nbb_formatted_code);\n",
       "                        break;\n",
       "                    }\n",
       "                }\n",
       "            }, 500);\n",
       "            "
      ],
      "text/plain": [
       "<IPython.core.display.Javascript object>"
      ]
     },
     "metadata": {},
     "output_type": "display_data"
    }
   ],
   "source": [
    "test_dataset = (\n",
    "    test_data.to_dataset()\n",
    "    .batch(BATCH_SIZE)\n",
    "    .map(TextPreprocessor(), num_parallel_calls=AUTOTUNE)\n",
    "    .map(WordEncoder(vocabulary_table=table), num_parallel_calls=AUTOTUNE)\n",
    "    .cache()\n",
    "    .prefetch(AUTOTUNE)\n",
    ")"
   ]
  },
  {
   "cell_type": "code",
   "execution_count": 56,
   "metadata": {},
   "outputs": [
    {
     "data": {
      "application/javascript": [
       "\n",
       "            setTimeout(function() {\n",
       "                var nbb_cell_id = 56;\n",
       "                var nbb_formatted_code = \"data_container = DataContainer(\\n    base=train_dataset,\\n    train=train_dataset,\\n    train_steps=math.ceil(len(train_data) / BATCH_SIZE),\\n    validation=valid_dataset,\\n    test=test_dataset,\\n    label_map=label_map,\\n)\";\n",
       "                var nbb_cells = Jupyter.notebook.get_cells();\n",
       "                for (var i = 0; i < nbb_cells.length; ++i) {\n",
       "                    if (nbb_cells[i].input_prompt_number == nbb_cell_id) {\n",
       "                        nbb_cells[i].set_text(nbb_formatted_code);\n",
       "                        break;\n",
       "                    }\n",
       "                }\n",
       "            }, 500);\n",
       "            "
      ],
      "text/plain": [
       "<IPython.core.display.Javascript object>"
      ]
     },
     "metadata": {},
     "output_type": "display_data"
    }
   ],
   "source": [
    "data_container = DataContainer(\n",
    "    base=train_dataset,\n",
    "    train=train_dataset,\n",
    "    train_steps=math.ceil(len(train_data) / BATCH_SIZE),\n",
    "    validation=valid_dataset,\n",
    "    test=test_dataset,\n",
    "    label_map=label_map,\n",
    ")"
   ]
  },
  {
   "cell_type": "code",
   "execution_count": 57,
   "metadata": {},
   "outputs": [
    {
     "name": "stdout",
     "output_type": "stream",
     "text": [
      "(32, 100)\n",
      "(32,)\n",
      "tf.Tensor(\n",
      "[  54  135   28   10    6   24  162 2162   46   39   30   15  124   19\n",
      "  316    5  137   28 1120  288   49  209    1  128    6   87    3    1\n",
      "   36    6  346 1187 1598    2  753   12  508   59   25   49  391   20\n",
      "    1   89    6   15   31  106    0    0    0    0    0    0    0    0\n",
      "    0    0    0    0    0    0    0    0    0    0    0    0    0    0\n",
      "    0    0    0    0    0    0    0    0    0    0    0    0    0    0\n",
      "    0    0    0    0    0    0    0    0    0    0    0    0    0    0\n",
      "    0    0], shape=(100,), dtype=int64)\n",
      "tf.Tensor(3, shape=(), dtype=int64)\n"
     ]
    },
    {
     "data": {
      "application/javascript": [
       "\n",
       "            setTimeout(function() {\n",
       "                var nbb_cell_id = 57;\n",
       "                var nbb_formatted_code = \"for x, y in data_container.train.take(1):\\n    print(x.shape)\\n    print(y.shape)\\n    print(x[0])\\n    print(y[0])\";\n",
       "                var nbb_cells = Jupyter.notebook.get_cells();\n",
       "                for (var i = 0; i < nbb_cells.length; ++i) {\n",
       "                    if (nbb_cells[i].input_prompt_number == nbb_cell_id) {\n",
       "                        nbb_cells[i].set_text(nbb_formatted_code);\n",
       "                        break;\n",
       "                    }\n",
       "                }\n",
       "            }, 500);\n",
       "            "
      ],
      "text/plain": [
       "<IPython.core.display.Javascript object>"
      ]
     },
     "metadata": {},
     "output_type": "display_data"
    }
   ],
   "source": [
    "for x, y in data_container.train.take(1):\n",
    "    print(x.shape)\n",
    "    print(y.shape)\n",
    "    print(x[0])\n",
    "    print(y[0])"
   ]
  },
  {
   "cell_type": "code",
   "execution_count": 58,
   "metadata": {},
   "outputs": [
    {
     "name": "stdout",
     "output_type": "stream",
     "text": [
      "(32, 100)\n",
      "(32,)\n",
      "tf.Tensor(\n",
      "[3381 1612  361   10    1  714  327  285    3  565  446   84   12   27\n",
      "  605  170   14    5  334 1179 4808   43   56  423  142    3    1  112\n",
      "   55  114  161   12  436 1646  151  277   31   25   13  666    6  101\n",
      "  157  893   42 1794  455  222    0    0    0    0    0    0    0    0\n",
      "    0    0    0    0    0    0    0    0    0    0    0    0    0    0\n",
      "    0    0    0    0    0    0    0    0    0    0    0    0    0    0\n",
      "    0    0    0    0    0    0    0    0    0    0    0    0    0    0\n",
      "    0    0], shape=(100,), dtype=int64)\n",
      "tf.Tensor(3, shape=(), dtype=int64)\n"
     ]
    },
    {
     "data": {
      "application/javascript": [
       "\n",
       "            setTimeout(function() {\n",
       "                var nbb_cell_id = 58;\n",
       "                var nbb_formatted_code = \"for x, y in data_container.validation.take(1):\\n    print(x.shape)\\n    print(y.shape)\\n    print(x[0])\\n    print(y[0])\";\n",
       "                var nbb_cells = Jupyter.notebook.get_cells();\n",
       "                for (var i = 0; i < nbb_cells.length; ++i) {\n",
       "                    if (nbb_cells[i].input_prompt_number == nbb_cell_id) {\n",
       "                        nbb_cells[i].set_text(nbb_formatted_code);\n",
       "                        break;\n",
       "                    }\n",
       "                }\n",
       "            }, 500);\n",
       "            "
      ],
      "text/plain": [
       "<IPython.core.display.Javascript object>"
      ]
     },
     "metadata": {},
     "output_type": "display_data"
    }
   ],
   "source": [
    "for x, y in data_container.validation.take(1):\n",
    "    print(x.shape)\n",
    "    print(y.shape)\n",
    "    print(x[0])\n",
    "    print(y[0])"
   ]
  },
  {
   "cell_type": "code",
   "execution_count": 59,
   "metadata": {},
   "outputs": [
    {
     "data": {
      "application/javascript": [
       "\n",
       "            setTimeout(function() {\n",
       "                var nbb_cell_id = 59;\n",
       "                var nbb_formatted_code = \"def make_sequential_lstm_model(\\n    n_categories, embedding_size, lstm_size, lstm_dropout, dropout\\n):\\n    return keras.models.Sequential(\\n        [\\n            keras.layers.Embedding(\\n                VOCABULARY_SIZE + n_oov_buckets,\\n                embedding_size,\\n                mask_zero=True,\\n                input_shape=[None],\\n            ),\\n            keras.layers.Bidirectional(\\n                keras.layers.LSTM(\\n                    lstm_size, dropout=lstm_dropout, return_sequences=True\\n                )\\n            ),\\n            keras.layers.Bidirectional(\\n                keras.layers.LSTM(\\n                    lstm_size, dropout=lstm_dropout, return_sequences=False\\n                )\\n            ),\\n            keras.layers.Dropout(dropout),\\n            keras.layers.Dense(n_categories, activation=keras.activations.softmax),\\n        ]\\n    )\";\n",
       "                var nbb_cells = Jupyter.notebook.get_cells();\n",
       "                for (var i = 0; i < nbb_cells.length; ++i) {\n",
       "                    if (nbb_cells[i].input_prompt_number == nbb_cell_id) {\n",
       "                        nbb_cells[i].set_text(nbb_formatted_code);\n",
       "                        break;\n",
       "                    }\n",
       "                }\n",
       "            }, 500);\n",
       "            "
      ],
      "text/plain": [
       "<IPython.core.display.Javascript object>"
      ]
     },
     "metadata": {},
     "output_type": "display_data"
    }
   ],
   "source": [
    "def make_sequential_lstm_model(\n",
    "    n_categories, embedding_size, lstm_size, lstm_dropout, dropout\n",
    "):\n",
    "    return keras.models.Sequential(\n",
    "        [\n",
    "            keras.layers.Embedding(\n",
    "                VOCABULARY_SIZE + n_oov_buckets,\n",
    "                embedding_size,\n",
    "                mask_zero=True,\n",
    "                input_shape=[None],\n",
    "            ),\n",
    "            keras.layers.Bidirectional(\n",
    "                keras.layers.LSTM(\n",
    "                    lstm_size, dropout=lstm_dropout, return_sequences=True\n",
    "                )\n",
    "            ),\n",
    "            keras.layers.Bidirectional(\n",
    "                keras.layers.LSTM(\n",
    "                    lstm_size, dropout=lstm_dropout, return_sequences=False\n",
    "                )\n",
    "            ),\n",
    "            keras.layers.Dropout(dropout),\n",
    "            keras.layers.Dense(n_categories, activation=keras.activations.softmax),\n",
    "        ]\n",
    "    )"
   ]
  },
  {
   "cell_type": "code",
   "execution_count": 60,
   "metadata": {},
   "outputs": [
    {
     "data": {
      "application/javascript": [
       "\n",
       "            setTimeout(function() {\n",
       "                var nbb_cell_id = 60;\n",
       "                var nbb_formatted_code = \"model = make_sequential_lstm_model(\\n    n_categories=data_container.n_classes,\\n    embedding_size=256,\\n    lstm_size=256,\\n    lstm_dropout=0.1,\\n    dropout=0.5,\\n)\";\n",
       "                var nbb_cells = Jupyter.notebook.get_cells();\n",
       "                for (var i = 0; i < nbb_cells.length; ++i) {\n",
       "                    if (nbb_cells[i].input_prompt_number == nbb_cell_id) {\n",
       "                        nbb_cells[i].set_text(nbb_formatted_code);\n",
       "                        break;\n",
       "                    }\n",
       "                }\n",
       "            }, 500);\n",
       "            "
      ],
      "text/plain": [
       "<IPython.core.display.Javascript object>"
      ]
     },
     "metadata": {},
     "output_type": "display_data"
    }
   ],
   "source": [
    "model = make_sequential_lstm_model(\n",
    "    n_categories=data_container.n_classes,\n",
    "    embedding_size=256,\n",
    "    lstm_size=256,\n",
    "    lstm_dropout=0.1,\n",
    "    dropout=0.5,\n",
    ")"
   ]
  },
  {
   "cell_type": "code",
   "execution_count": 61,
   "metadata": {},
   "outputs": [
    {
     "data": {
      "application/javascript": [
       "\n",
       "            setTimeout(function() {\n",
       "                var nbb_cell_id = 61;\n",
       "                var nbb_formatted_code = \"model.compile(\\n    loss=keras.losses.sparse_categorical_crossentropy,\\n    optimizer=keras.optimizers.Adam(lr=1e-4),\\n    metrics=[\\n        keras.metrics.sparse_categorical_accuracy,\\n        sparse_top_2_categorical_accuracy,\\n    ],\\n)\";\n",
       "                var nbb_cells = Jupyter.notebook.get_cells();\n",
       "                for (var i = 0; i < nbb_cells.length; ++i) {\n",
       "                    if (nbb_cells[i].input_prompt_number == nbb_cell_id) {\n",
       "                        nbb_cells[i].set_text(nbb_formatted_code);\n",
       "                        break;\n",
       "                    }\n",
       "                }\n",
       "            }, 500);\n",
       "            "
      ],
      "text/plain": [
       "<IPython.core.display.Javascript object>"
      ]
     },
     "metadata": {},
     "output_type": "display_data"
    }
   ],
   "source": [
    "model.compile(\n",
    "    loss=keras.losses.sparse_categorical_crossentropy,\n",
    "    optimizer=keras.optimizers.Adam(lr=1e-4),\n",
    "    metrics=[\n",
    "        keras.metrics.sparse_categorical_accuracy,\n",
    "        sparse_top_2_categorical_accuracy,\n",
    "    ],\n",
    ")"
   ]
  },
  {
   "cell_type": "code",
   "execution_count": 62,
   "metadata": {},
   "outputs": [
    {
     "name": "stdout",
     "output_type": "stream",
     "text": [
      "Train for 156 steps, validate for 71 steps\n",
      "Epoch 1/20\n",
      "156/156 [==============================] - 27s 171ms/step - loss: 1.5600 - sparse_categorical_accuracy: 0.2837 - sparse_top_2_categorical_accuracy: 0.5194 - val_loss: 1.4153 - val_sparse_categorical_accuracy: 0.4561 - val_sparse_top_2_categorical_accuracy: 0.6698\n",
      "Epoch 2/20\n",
      "156/156 [==============================] - 10s 62ms/step - loss: 1.2874 - sparse_categorical_accuracy: 0.4002 - sparse_top_2_categorical_accuracy: 0.7061 - val_loss: 1.0986 - val_sparse_categorical_accuracy: 0.5347 - val_sparse_top_2_categorical_accuracy: 0.7881\n",
      "Epoch 3/20\n",
      "156/156 [==============================] - 10s 61ms/step - loss: 1.1765 - sparse_categorical_accuracy: 0.4551 - sparse_top_2_categorical_accuracy: 0.7833 - val_loss: 1.0495 - val_sparse_categorical_accuracy: 0.5483 - val_sparse_top_2_categorical_accuracy: 0.8106\n",
      "Epoch 4/20\n",
      "156/156 [==============================] - 10s 62ms/step - loss: 1.0912 - sparse_categorical_accuracy: 0.5166 - sparse_top_2_categorical_accuracy: 0.8189 - val_loss: 1.0603 - val_sparse_categorical_accuracy: 0.5523 - val_sparse_top_2_categorical_accuracy: 0.7978\n",
      "Epoch 5/20\n",
      "156/156 [==============================] - 10s 62ms/step - loss: 1.0435 - sparse_categorical_accuracy: 0.5373 - sparse_top_2_categorical_accuracy: 0.8411 - val_loss: 1.0432 - val_sparse_categorical_accuracy: 0.5572 - val_sparse_top_2_categorical_accuracy: 0.8265\n",
      "Epoch 6/20\n",
      "156/156 [==============================] - 10s 62ms/step - loss: 0.9625 - sparse_categorical_accuracy: 0.5811 - sparse_top_2_categorical_accuracy: 0.8702 - val_loss: 1.0369 - val_sparse_categorical_accuracy: 0.5572 - val_sparse_top_2_categorical_accuracy: 0.8278\n",
      "Epoch 7/20\n",
      "156/156 [==============================] - 10s 63ms/step - loss: 0.9268 - sparse_categorical_accuracy: 0.5996 - sparse_top_2_categorical_accuracy: 0.8798 - val_loss: 1.0438 - val_sparse_categorical_accuracy: 0.5673 - val_sparse_top_2_categorical_accuracy: 0.8318\n",
      "Epoch 8/20\n",
      "156/156 [==============================] - 10s 63ms/step - loss: 0.8863 - sparse_categorical_accuracy: 0.6202 - sparse_top_2_categorical_accuracy: 0.8976 - val_loss: 1.0627 - val_sparse_categorical_accuracy: 0.5501 - val_sparse_top_2_categorical_accuracy: 0.8296\n",
      "Epoch 9/20\n",
      "156/156 [==============================] - 10s 62ms/step - loss: 0.8557 - sparse_categorical_accuracy: 0.6390 - sparse_top_2_categorical_accuracy: 0.9050 - val_loss: 1.0775 - val_sparse_categorical_accuracy: 0.5457 - val_sparse_top_2_categorical_accuracy: 0.8300\n"
     ]
    },
    {
     "data": {
      "application/javascript": [
       "\n",
       "            setTimeout(function() {\n",
       "                var nbb_cell_id = 62;\n",
       "                var nbb_formatted_code = \"history = model.fit(\\n    data_container.train,\\n    steps_per_epoch=data_container.train_steps // 5,\\n    validation_data=data_container.validation,\\n    epochs=20,\\n    callbacks=[\\n        keras.callbacks.ReduceLROnPlateau(patience=1, factor=0.3),\\n        keras.callbacks.EarlyStopping(patience=3, restore_best_weights=True),\\n    ],\\n)\";\n",
       "                var nbb_cells = Jupyter.notebook.get_cells();\n",
       "                for (var i = 0; i < nbb_cells.length; ++i) {\n",
       "                    if (nbb_cells[i].input_prompt_number == nbb_cell_id) {\n",
       "                        nbb_cells[i].set_text(nbb_formatted_code);\n",
       "                        break;\n",
       "                    }\n",
       "                }\n",
       "            }, 500);\n",
       "            "
      ],
      "text/plain": [
       "<IPython.core.display.Javascript object>"
      ]
     },
     "metadata": {},
     "output_type": "display_data"
    }
   ],
   "source": [
    "history = model.fit(\n",
    "    data_container.train,\n",
    "    steps_per_epoch=data_container.train_steps // 5,\n",
    "    validation_data=data_container.validation,\n",
    "    epochs=20,\n",
    "    callbacks=[\n",
    "        keras.callbacks.ReduceLROnPlateau(patience=1, factor=0.3),\n",
    "        keras.callbacks.EarlyStopping(patience=3, restore_best_weights=True),\n",
    "    ],\n",
    ")"
   ]
  },
  {
   "cell_type": "code",
   "execution_count": 63,
   "metadata": {},
   "outputs": [
    {
     "name": "stdout",
     "output_type": "stream",
     "text": [
      "71/71 [==============================] - 1s 19ms/step - loss: 1.0369 - sparse_categorical_accuracy: 0.5572 - sparse_top_2_categorical_accuracy: 0.8278\n"
     ]
    },
    {
     "data": {
      "text/plain": [
       "[1.0368759900751248, 0.5571744, 0.8278146]"
      ]
     },
     "execution_count": 63,
     "metadata": {},
     "output_type": "execute_result"
    },
    {
     "data": {
      "application/javascript": [
       "\n",
       "            setTimeout(function() {\n",
       "                var nbb_cell_id = 63;\n",
       "                var nbb_formatted_code = \"model.evaluate(data_container.validation)\";\n",
       "                var nbb_cells = Jupyter.notebook.get_cells();\n",
       "                for (var i = 0; i < nbb_cells.length; ++i) {\n",
       "                    if (nbb_cells[i].input_prompt_number == nbb_cell_id) {\n",
       "                        nbb_cells[i].set_text(nbb_formatted_code);\n",
       "                        break;\n",
       "                    }\n",
       "                }\n",
       "            }, 500);\n",
       "            "
      ],
      "text/plain": [
       "<IPython.core.display.Javascript object>"
      ]
     },
     "metadata": {},
     "output_type": "display_data"
    }
   ],
   "source": [
    "model.evaluate(data_container.validation)"
   ]
  },
  {
   "cell_type": "code",
   "execution_count": 64,
   "metadata": {},
   "outputs": [
    {
     "name": "stdout",
     "output_type": "stream",
     "text": [
      "              precision    recall  f1-score   support\n",
      "\n",
      "           0       0.34      0.33      0.33        89\n",
      "           1       0.29      0.26      0.28       159\n",
      "           2       0.32      0.45      0.38       280\n",
      "           3       0.38      0.45      0.41       538\n",
      "           4       0.81      0.68      0.74      1199\n",
      "\n",
      "    accuracy                           0.56      2265\n",
      "   macro avg       0.43      0.44      0.43      2265\n",
      "weighted avg       0.60      0.56      0.57      2265\n",
      "\n"
     ]
    },
    {
     "data": {
      "application/javascript": [
       "\n",
       "            setTimeout(function() {\n",
       "                var nbb_cell_id = 64;\n",
       "                var nbb_formatted_code = \"print(\\n    classification_report(\\n        np.concatenate([y.numpy() for _, y in data_container.validation]),\\n        model.predict(data_container.validation).argmax(axis=1),\\n    )\\n)\";\n",
       "                var nbb_cells = Jupyter.notebook.get_cells();\n",
       "                for (var i = 0; i < nbb_cells.length; ++i) {\n",
       "                    if (nbb_cells[i].input_prompt_number == nbb_cell_id) {\n",
       "                        nbb_cells[i].set_text(nbb_formatted_code);\n",
       "                        break;\n",
       "                    }\n",
       "                }\n",
       "            }, 500);\n",
       "            "
      ],
      "text/plain": [
       "<IPython.core.display.Javascript object>"
      ]
     },
     "metadata": {},
     "output_type": "display_data"
    }
   ],
   "source": [
    "print(\n",
    "    classification_report(\n",
    "        np.concatenate([y.numpy() for _, y in data_container.validation]),\n",
    "        model.predict(data_container.validation).argmax(axis=1),\n",
    "    )\n",
    ")"
   ]
  },
  {
   "cell_type": "code",
   "execution_count": 65,
   "metadata": {},
   "outputs": [
    {
     "data": {
      "application/javascript": [
       "\n",
       "            setTimeout(function() {\n",
       "                var nbb_cell_id = 65;\n",
       "                var nbb_formatted_code = \"train_dataset = (\\n    train_data.to_dataset()\\n    .shuffle(len(train_data))\\n    .batch(BATCH_SIZE)\\n    .cache()\\n    .repeat()\\n    .prefetch(AUTOTUNE)\\n)\";\n",
       "                var nbb_cells = Jupyter.notebook.get_cells();\n",
       "                for (var i = 0; i < nbb_cells.length; ++i) {\n",
       "                    if (nbb_cells[i].input_prompt_number == nbb_cell_id) {\n",
       "                        nbb_cells[i].set_text(nbb_formatted_code);\n",
       "                        break;\n",
       "                    }\n",
       "                }\n",
       "            }, 500);\n",
       "            "
      ],
      "text/plain": [
       "<IPython.core.display.Javascript object>"
      ]
     },
     "metadata": {},
     "output_type": "display_data"
    }
   ],
   "source": [
    "train_dataset = (\n",
    "    train_data.to_dataset()\n",
    "    .shuffle(len(train_data))\n",
    "    .batch(BATCH_SIZE)\n",
    "    .cache()\n",
    "    .repeat()\n",
    "    .prefetch(AUTOTUNE)\n",
    ")"
   ]
  },
  {
   "cell_type": "code",
   "execution_count": 66,
   "metadata": {},
   "outputs": [
    {
     "data": {
      "application/javascript": [
       "\n",
       "            setTimeout(function() {\n",
       "                var nbb_cell_id = 66;\n",
       "                var nbb_formatted_code = \"valid_dataset = valid_data.to_dataset().batch(BATCH_SIZE).cache().prefetch(AUTOTUNE)\";\n",
       "                var nbb_cells = Jupyter.notebook.get_cells();\n",
       "                for (var i = 0; i < nbb_cells.length; ++i) {\n",
       "                    if (nbb_cells[i].input_prompt_number == nbb_cell_id) {\n",
       "                        nbb_cells[i].set_text(nbb_formatted_code);\n",
       "                        break;\n",
       "                    }\n",
       "                }\n",
       "            }, 500);\n",
       "            "
      ],
      "text/plain": [
       "<IPython.core.display.Javascript object>"
      ]
     },
     "metadata": {},
     "output_type": "display_data"
    }
   ],
   "source": [
    "valid_dataset = valid_data.to_dataset().batch(BATCH_SIZE).cache().prefetch(AUTOTUNE)"
   ]
  },
  {
   "cell_type": "code",
   "execution_count": 67,
   "metadata": {},
   "outputs": [
    {
     "data": {
      "application/javascript": [
       "\n",
       "            setTimeout(function() {\n",
       "                var nbb_cell_id = 67;\n",
       "                var nbb_formatted_code = \"test_dataset = test_data.to_dataset().batch(BATCH_SIZE).cache().prefetch(AUTOTUNE)\";\n",
       "                var nbb_cells = Jupyter.notebook.get_cells();\n",
       "                for (var i = 0; i < nbb_cells.length; ++i) {\n",
       "                    if (nbb_cells[i].input_prompt_number == nbb_cell_id) {\n",
       "                        nbb_cells[i].set_text(nbb_formatted_code);\n",
       "                        break;\n",
       "                    }\n",
       "                }\n",
       "            }, 500);\n",
       "            "
      ],
      "text/plain": [
       "<IPython.core.display.Javascript object>"
      ]
     },
     "metadata": {},
     "output_type": "display_data"
    }
   ],
   "source": [
    "test_dataset = test_data.to_dataset().batch(BATCH_SIZE).cache().prefetch(AUTOTUNE)"
   ]
  },
  {
   "cell_type": "code",
   "execution_count": 68,
   "metadata": {},
   "outputs": [
    {
     "data": {
      "application/javascript": [
       "\n",
       "            setTimeout(function() {\n",
       "                var nbb_cell_id = 68;\n",
       "                var nbb_formatted_code = \"data_container = DataContainer(\\n    base=train_dataset,\\n    train=train_dataset,\\n    train_steps=math.ceil(len(train_data) / BATCH_SIZE),\\n    validation=valid_dataset,\\n    test=test_dataset,\\n    label_map=label_map,\\n)\";\n",
       "                var nbb_cells = Jupyter.notebook.get_cells();\n",
       "                for (var i = 0; i < nbb_cells.length; ++i) {\n",
       "                    if (nbb_cells[i].input_prompt_number == nbb_cell_id) {\n",
       "                        nbb_cells[i].set_text(nbb_formatted_code);\n",
       "                        break;\n",
       "                    }\n",
       "                }\n",
       "            }, 500);\n",
       "            "
      ],
      "text/plain": [
       "<IPython.core.display.Javascript object>"
      ]
     },
     "metadata": {},
     "output_type": "display_data"
    }
   ],
   "source": [
    "data_container = DataContainer(\n",
    "    base=train_dataset,\n",
    "    train=train_dataset,\n",
    "    train_steps=math.ceil(len(train_data) / BATCH_SIZE),\n",
    "    validation=valid_dataset,\n",
    "    test=test_dataset,\n",
    "    label_map=label_map,\n",
    ")"
   ]
  },
  {
   "cell_type": "code",
   "execution_count": 69,
   "metadata": {},
   "outputs": [
    {
     "data": {
      "application/javascript": [
       "\n",
       "            setTimeout(function() {\n",
       "                var nbb_cell_id = 69;\n",
       "                var nbb_formatted_code = \"def train_model(\\n    model,\\n    data_container,\\n    epochs,\\n    lrs=None,\\n    optimizers=None,\\n    patience=5,\\n    class_weights=None,\\n    verbose=1,\\n    log_dir=str(TEMP_DIR / \\\"logs\\\"),\\n):\\n    if optimizers is None:\\n        optimizers = [keras.optimizers.Adam(lr) for lr in lrs]\\n    model.compile(\\n        loss=keras.losses.sparse_categorical_crossentropy,\\n        optimizer=optimizers[0],\\n        metrics=[\\n            keras.metrics.sparse_categorical_accuracy,\\n            sparse_top_2_categorical_accuracy,\\n        ],\\n    )\\n    model.fit(\\n        data_container.train,\\n        steps_per_epoch=data_container.train_steps,\\n        validation_data=data_container.validation,\\n        epochs=epochs[0],\\n        callbacks=[\\n            keras.callbacks.ReduceLROnPlateau(patience=patience, factor=0.3),\\n            keras.callbacks.EarlyStopping(patience=patience, restore_best_weights=True),\\n        ],\\n        class_weight=class_weights,\\n        verbose=verbose,\\n    )\\n    model.layers[0].trainable = True\\n    model.compile(\\n        loss=keras.losses.sparse_categorical_crossentropy,\\n        optimizer=optimizers[1],\\n        metrics=[\\n            keras.metrics.sparse_categorical_accuracy,\\n            sparse_top_2_categorical_accuracy,\\n        ],\\n    )\\n    model.fit(\\n        data_container.train,\\n        steps_per_epoch=data_container.train_steps,\\n        validation_data=data_container.validation,\\n        epochs=epochs[1],\\n        callbacks=[\\n            keras.callbacks.ReduceLROnPlateau(patience=patience // 2, factor=0.3),\\n            keras.callbacks.EarlyStopping(patience=patience, restore_best_weights=True),\\n            keras.callbacks.TensorBoard(log_dir=log_dir),\\n        ],\\n        class_weight=class_weights,\\n        verbose=verbose,\\n    )\";\n",
       "                var nbb_cells = Jupyter.notebook.get_cells();\n",
       "                for (var i = 0; i < nbb_cells.length; ++i) {\n",
       "                    if (nbb_cells[i].input_prompt_number == nbb_cell_id) {\n",
       "                        nbb_cells[i].set_text(nbb_formatted_code);\n",
       "                        break;\n",
       "                    }\n",
       "                }\n",
       "            }, 500);\n",
       "            "
      ],
      "text/plain": [
       "<IPython.core.display.Javascript object>"
      ]
     },
     "metadata": {},
     "output_type": "display_data"
    }
   ],
   "source": [
    "def train_model(\n",
    "    model,\n",
    "    data_container,\n",
    "    epochs,\n",
    "    lrs=None,\n",
    "    optimizers=None,\n",
    "    patience=5,\n",
    "    class_weights=None,\n",
    "    verbose=1,\n",
    "    log_dir=str(TEMP_DIR / \"logs\"),\n",
    "):\n",
    "    if optimizers is None:\n",
    "        optimizers = [keras.optimizers.Adam(lr) for lr in lrs]\n",
    "    model.compile(\n",
    "        loss=keras.losses.sparse_categorical_crossentropy,\n",
    "        optimizer=optimizers[0],\n",
    "        metrics=[\n",
    "            keras.metrics.sparse_categorical_accuracy,\n",
    "            sparse_top_2_categorical_accuracy,\n",
    "        ],\n",
    "    )\n",
    "    model.fit(\n",
    "        data_container.train,\n",
    "        steps_per_epoch=data_container.train_steps,\n",
    "        validation_data=data_container.validation,\n",
    "        epochs=epochs[0],\n",
    "        callbacks=[\n",
    "            keras.callbacks.ReduceLROnPlateau(patience=patience, factor=0.3),\n",
    "            keras.callbacks.EarlyStopping(patience=patience, restore_best_weights=True),\n",
    "        ],\n",
    "        class_weight=class_weights,\n",
    "        verbose=verbose,\n",
    "    )\n",
    "    model.layers[0].trainable = True\n",
    "    model.compile(\n",
    "        loss=keras.losses.sparse_categorical_crossentropy,\n",
    "        optimizer=optimizers[1],\n",
    "        metrics=[\n",
    "            keras.metrics.sparse_categorical_accuracy,\n",
    "            sparse_top_2_categorical_accuracy,\n",
    "        ],\n",
    "    )\n",
    "    model.fit(\n",
    "        data_container.train,\n",
    "        steps_per_epoch=data_container.train_steps,\n",
    "        validation_data=data_container.validation,\n",
    "        epochs=epochs[1],\n",
    "        callbacks=[\n",
    "            keras.callbacks.ReduceLROnPlateau(patience=patience // 2, factor=0.3),\n",
    "            keras.callbacks.EarlyStopping(patience=patience, restore_best_weights=True),\n",
    "            keras.callbacks.TensorBoard(log_dir=log_dir),\n",
    "        ],\n",
    "        class_weight=class_weights,\n",
    "        verbose=verbose,\n",
    "    )"
   ]
  },
  {
   "cell_type": "code",
   "execution_count": 70,
   "metadata": {},
   "outputs": [
    {
     "data": {
      "application/javascript": [
       "\n",
       "            setTimeout(function() {\n",
       "                var nbb_cell_id = 70;\n",
       "                var nbb_formatted_code = \"def make_hub_model(url, n_categories):\\n    return keras.Sequential(\\n        [\\n            hub.KerasLayer(url, dtype=tf.string, input_shape=[]),\\n            keras.layers.Dropout(0.5),\\n            keras.layers.Dense(n_categories, activation=keras.activations.softmax),\\n        ]\\n    )\";\n",
       "                var nbb_cells = Jupyter.notebook.get_cells();\n",
       "                for (var i = 0; i < nbb_cells.length; ++i) {\n",
       "                    if (nbb_cells[i].input_prompt_number == nbb_cell_id) {\n",
       "                        nbb_cells[i].set_text(nbb_formatted_code);\n",
       "                        break;\n",
       "                    }\n",
       "                }\n",
       "            }, 500);\n",
       "            "
      ],
      "text/plain": [
       "<IPython.core.display.Javascript object>"
      ]
     },
     "metadata": {},
     "output_type": "display_data"
    }
   ],
   "source": [
    "def make_hub_model(url, n_categories):\n",
    "    return keras.Sequential(\n",
    "        [\n",
    "            hub.KerasLayer(url, dtype=tf.string, input_shape=[]),\n",
    "            keras.layers.Dropout(0.5),\n",
    "            keras.layers.Dense(n_categories, activation=keras.activations.softmax),\n",
    "        ]\n",
    "    )"
   ]
  },
  {
   "cell_type": "code",
   "execution_count": 77,
   "metadata": {},
   "outputs": [
    {
     "name": "stdout",
     "output_type": "stream",
     "text": [
      "WARNING:tensorflow:Unresolved object in checkpoint: (root).optimizer\n"
     ]
    },
    {
     "name": "stderr",
     "output_type": "stream",
     "text": [
      "WARNING:tensorflow:Unresolved object in checkpoint: (root).optimizer\n"
     ]
    },
    {
     "name": "stdout",
     "output_type": "stream",
     "text": [
      "WARNING:tensorflow:Unresolved object in checkpoint: (root).optimizer.iter\n"
     ]
    },
    {
     "name": "stderr",
     "output_type": "stream",
     "text": [
      "WARNING:tensorflow:Unresolved object in checkpoint: (root).optimizer.iter\n"
     ]
    },
    {
     "name": "stdout",
     "output_type": "stream",
     "text": [
      "WARNING:tensorflow:Unresolved object in checkpoint: (root).optimizer.beta_1\n"
     ]
    },
    {
     "name": "stderr",
     "output_type": "stream",
     "text": [
      "WARNING:tensorflow:Unresolved object in checkpoint: (root).optimizer.beta_1\n"
     ]
    },
    {
     "name": "stdout",
     "output_type": "stream",
     "text": [
      "WARNING:tensorflow:Unresolved object in checkpoint: (root).optimizer.beta_2\n"
     ]
    },
    {
     "name": "stderr",
     "output_type": "stream",
     "text": [
      "WARNING:tensorflow:Unresolved object in checkpoint: (root).optimizer.beta_2\n"
     ]
    },
    {
     "name": "stdout",
     "output_type": "stream",
     "text": [
      "WARNING:tensorflow:Unresolved object in checkpoint: (root).optimizer.decay\n"
     ]
    },
    {
     "name": "stderr",
     "output_type": "stream",
     "text": [
      "WARNING:tensorflow:Unresolved object in checkpoint: (root).optimizer.decay\n"
     ]
    },
    {
     "name": "stdout",
     "output_type": "stream",
     "text": [
      "WARNING:tensorflow:Unresolved object in checkpoint: (root).optimizer.learning_rate\n"
     ]
    },
    {
     "name": "stderr",
     "output_type": "stream",
     "text": [
      "WARNING:tensorflow:Unresolved object in checkpoint: (root).optimizer.learning_rate\n"
     ]
    },
    {
     "name": "stdout",
     "output_type": "stream",
     "text": [
      "WARNING:tensorflow:Unresolved object in checkpoint: (root).optimizer's state 'm' for (root).layer_with_weights-0.Variable:0\n"
     ]
    },
    {
     "name": "stderr",
     "output_type": "stream",
     "text": [
      "WARNING:tensorflow:Unresolved object in checkpoint: (root).optimizer's state 'm' for (root).layer_with_weights-0.Variable:0\n"
     ]
    },
    {
     "name": "stdout",
     "output_type": "stream",
     "text": [
      "WARNING:tensorflow:Unresolved object in checkpoint: (root).optimizer's state 'm' for (root).layer_with_weights-1.kernel\n"
     ]
    },
    {
     "name": "stderr",
     "output_type": "stream",
     "text": [
      "WARNING:tensorflow:Unresolved object in checkpoint: (root).optimizer's state 'm' for (root).layer_with_weights-1.kernel\n"
     ]
    },
    {
     "name": "stdout",
     "output_type": "stream",
     "text": [
      "WARNING:tensorflow:Unresolved object in checkpoint: (root).optimizer's state 'm' for (root).layer_with_weights-1.bias\n"
     ]
    },
    {
     "name": "stderr",
     "output_type": "stream",
     "text": [
      "WARNING:tensorflow:Unresolved object in checkpoint: (root).optimizer's state 'm' for (root).layer_with_weights-1.bias\n"
     ]
    },
    {
     "name": "stdout",
     "output_type": "stream",
     "text": [
      "WARNING:tensorflow:Unresolved object in checkpoint: (root).optimizer's state 'v' for (root).layer_with_weights-0.Variable:0\n"
     ]
    },
    {
     "name": "stderr",
     "output_type": "stream",
     "text": [
      "WARNING:tensorflow:Unresolved object in checkpoint: (root).optimizer's state 'v' for (root).layer_with_weights-0.Variable:0\n"
     ]
    },
    {
     "name": "stdout",
     "output_type": "stream",
     "text": [
      "WARNING:tensorflow:Unresolved object in checkpoint: (root).optimizer's state 'v' for (root).layer_with_weights-1.kernel\n"
     ]
    },
    {
     "name": "stderr",
     "output_type": "stream",
     "text": [
      "WARNING:tensorflow:Unresolved object in checkpoint: (root).optimizer's state 'v' for (root).layer_with_weights-1.kernel\n"
     ]
    },
    {
     "name": "stdout",
     "output_type": "stream",
     "text": [
      "WARNING:tensorflow:Unresolved object in checkpoint: (root).optimizer's state 'v' for (root).layer_with_weights-1.bias\n"
     ]
    },
    {
     "name": "stderr",
     "output_type": "stream",
     "text": [
      "WARNING:tensorflow:Unresolved object in checkpoint: (root).optimizer's state 'v' for (root).layer_with_weights-1.bias\n"
     ]
    },
    {
     "name": "stdout",
     "output_type": "stream",
     "text": [
      "WARNING:tensorflow:A checkpoint was restored (e.g. tf.train.Checkpoint.restore or tf.keras.Model.load_weights) but not all checkpointed values were used. See above for specific issues. Use expect_partial() on the load status object, e.g. tf.train.Checkpoint.restore(...).expect_partial(), to silence these warnings, or use assert_consumed() to make the check explicit. See https://www.tensorflow.org/alpha/guide/checkpoints#loading_mechanics for details.\n"
     ]
    },
    {
     "name": "stderr",
     "output_type": "stream",
     "text": [
      "WARNING:tensorflow:A checkpoint was restored (e.g. tf.train.Checkpoint.restore or tf.keras.Model.load_weights) but not all checkpointed values were used. See above for specific issues. Use expect_partial() on the load status object, e.g. tf.train.Checkpoint.restore(...).expect_partial(), to silence these warnings, or use assert_consumed() to make the check explicit. See https://www.tensorflow.org/alpha/guide/checkpoints#loading_mechanics for details.\n"
     ]
    },
    {
     "name": "stdout",
     "output_type": "stream",
     "text": [
      "WARNING:tensorflow:Unresolved object in checkpoint: (root).optimizer\n"
     ]
    },
    {
     "name": "stderr",
     "output_type": "stream",
     "text": [
      "WARNING:tensorflow:Unresolved object in checkpoint: (root).optimizer\n"
     ]
    },
    {
     "name": "stdout",
     "output_type": "stream",
     "text": [
      "WARNING:tensorflow:Unresolved object in checkpoint: (root).optimizer.iter\n"
     ]
    },
    {
     "name": "stderr",
     "output_type": "stream",
     "text": [
      "WARNING:tensorflow:Unresolved object in checkpoint: (root).optimizer.iter\n"
     ]
    },
    {
     "name": "stdout",
     "output_type": "stream",
     "text": [
      "WARNING:tensorflow:Unresolved object in checkpoint: (root).optimizer.beta_1\n"
     ]
    },
    {
     "name": "stderr",
     "output_type": "stream",
     "text": [
      "WARNING:tensorflow:Unresolved object in checkpoint: (root).optimizer.beta_1\n"
     ]
    },
    {
     "name": "stdout",
     "output_type": "stream",
     "text": [
      "WARNING:tensorflow:Unresolved object in checkpoint: (root).optimizer.beta_2\n"
     ]
    },
    {
     "name": "stderr",
     "output_type": "stream",
     "text": [
      "WARNING:tensorflow:Unresolved object in checkpoint: (root).optimizer.beta_2\n"
     ]
    },
    {
     "name": "stdout",
     "output_type": "stream",
     "text": [
      "WARNING:tensorflow:Unresolved object in checkpoint: (root).optimizer.decay\n"
     ]
    },
    {
     "name": "stderr",
     "output_type": "stream",
     "text": [
      "WARNING:tensorflow:Unresolved object in checkpoint: (root).optimizer.decay\n"
     ]
    },
    {
     "name": "stdout",
     "output_type": "stream",
     "text": [
      "WARNING:tensorflow:Unresolved object in checkpoint: (root).optimizer.learning_rate\n"
     ]
    },
    {
     "name": "stderr",
     "output_type": "stream",
     "text": [
      "WARNING:tensorflow:Unresolved object in checkpoint: (root).optimizer.learning_rate\n"
     ]
    },
    {
     "name": "stdout",
     "output_type": "stream",
     "text": [
      "WARNING:tensorflow:Unresolved object in checkpoint: (root).optimizer's state 'm' for (root).layer_with_weights-0.Variable:0\n"
     ]
    },
    {
     "name": "stderr",
     "output_type": "stream",
     "text": [
      "WARNING:tensorflow:Unresolved object in checkpoint: (root).optimizer's state 'm' for (root).layer_with_weights-0.Variable:0\n"
     ]
    },
    {
     "name": "stdout",
     "output_type": "stream",
     "text": [
      "WARNING:tensorflow:Unresolved object in checkpoint: (root).optimizer's state 'm' for (root).layer_with_weights-1.kernel\n"
     ]
    },
    {
     "name": "stderr",
     "output_type": "stream",
     "text": [
      "WARNING:tensorflow:Unresolved object in checkpoint: (root).optimizer's state 'm' for (root).layer_with_weights-1.kernel\n"
     ]
    },
    {
     "name": "stdout",
     "output_type": "stream",
     "text": [
      "WARNING:tensorflow:Unresolved object in checkpoint: (root).optimizer's state 'm' for (root).layer_with_weights-1.bias\n"
     ]
    },
    {
     "name": "stderr",
     "output_type": "stream",
     "text": [
      "WARNING:tensorflow:Unresolved object in checkpoint: (root).optimizer's state 'm' for (root).layer_with_weights-1.bias\n"
     ]
    },
    {
     "name": "stdout",
     "output_type": "stream",
     "text": [
      "WARNING:tensorflow:Unresolved object in checkpoint: (root).optimizer's state 'v' for (root).layer_with_weights-0.Variable:0\n"
     ]
    },
    {
     "name": "stderr",
     "output_type": "stream",
     "text": [
      "WARNING:tensorflow:Unresolved object in checkpoint: (root).optimizer's state 'v' for (root).layer_with_weights-0.Variable:0\n"
     ]
    },
    {
     "name": "stdout",
     "output_type": "stream",
     "text": [
      "WARNING:tensorflow:Unresolved object in checkpoint: (root).optimizer's state 'v' for (root).layer_with_weights-1.kernel\n"
     ]
    },
    {
     "name": "stderr",
     "output_type": "stream",
     "text": [
      "WARNING:tensorflow:Unresolved object in checkpoint: (root).optimizer's state 'v' for (root).layer_with_weights-1.kernel\n"
     ]
    },
    {
     "name": "stdout",
     "output_type": "stream",
     "text": [
      "WARNING:tensorflow:Unresolved object in checkpoint: (root).optimizer's state 'v' for (root).layer_with_weights-1.bias\n"
     ]
    },
    {
     "name": "stderr",
     "output_type": "stream",
     "text": [
      "WARNING:tensorflow:Unresolved object in checkpoint: (root).optimizer's state 'v' for (root).layer_with_weights-1.bias\n"
     ]
    },
    {
     "name": "stdout",
     "output_type": "stream",
     "text": [
      "WARNING:tensorflow:A checkpoint was restored (e.g. tf.train.Checkpoint.restore or tf.keras.Model.load_weights) but not all checkpointed values were used. See above for specific issues. Use expect_partial() on the load status object, e.g. tf.train.Checkpoint.restore(...).expect_partial(), to silence these warnings, or use assert_consumed() to make the check explicit. See https://www.tensorflow.org/alpha/guide/checkpoints#loading_mechanics for details.\n"
     ]
    },
    {
     "name": "stderr",
     "output_type": "stream",
     "text": [
      "WARNING:tensorflow:A checkpoint was restored (e.g. tf.train.Checkpoint.restore or tf.keras.Model.load_weights) but not all checkpointed values were used. See above for specific issues. Use expect_partial() on the load status object, e.g. tf.train.Checkpoint.restore(...).expect_partial(), to silence these warnings, or use assert_consumed() to make the check explicit. See https://www.tensorflow.org/alpha/guide/checkpoints#loading_mechanics for details.\n"
     ]
    },
    {
     "data": {
      "application/javascript": [
       "\n",
       "            setTimeout(function() {\n",
       "                var nbb_cell_id = 77;\n",
       "                var nbb_formatted_code = \"def run_models(urls, data_container, class_weights):\\n    for url in urls:\\n        model = make_hub_model(url, data_container.n_classes)\\n        model_name = f\\\"{url.split('/')[4]}\\\"\\n        print(f\\\" {model_name} \\\".center(80, \\\"=\\\"))\\n        shutil.rmtree(str(TEMP_DIR / model_name), ignore_errors=True)\\n        train_model(\\n            model=model,\\n            data_container=data_container,\\n            epochs=[25, 15],\\n            optimizers=[keras.optimizers.Adam(lr=3e-4), keras.optimizers.Adam(lr=1e-4)],\\n            class_weights=class_weights,\\n            patience=4,\\n            verbose=2,\\n            log_dir=str(TEMP_DIR / model_name),\\n        )\\n        model.save(f\\\"{TEMP_DIR / model_name}.h5\\\")\\n        save_keras_model(\\n            model,\\n            str(TEMP_DIR / model_name / \\\"architecture\\\"),\\n            str(TEMP_DIR / model_name / \\\"weights\\\"),\\n        )\\n        keras.backend.clear_session()\\n        del model\\n        keras.backend.clear_session()\";\n",
       "                var nbb_cells = Jupyter.notebook.get_cells();\n",
       "                for (var i = 0; i < nbb_cells.length; ++i) {\n",
       "                    if (nbb_cells[i].input_prompt_number == nbb_cell_id) {\n",
       "                        nbb_cells[i].set_text(nbb_formatted_code);\n",
       "                        break;\n",
       "                    }\n",
       "                }\n",
       "            }, 500);\n",
       "            "
      ],
      "text/plain": [
       "<IPython.core.display.Javascript object>"
      ]
     },
     "metadata": {},
     "output_type": "display_data"
    }
   ],
   "source": [
    "def run_models(urls, data_container, class_weights):\n",
    "    for url in urls:\n",
    "        model = make_hub_model(url, data_container.n_classes)\n",
    "        model_name = f\"{url.split('/')[4]}\"\n",
    "        print(f\" {model_name} \".center(80, \"=\"))\n",
    "        shutil.rmtree(str(TEMP_DIR / model_name), ignore_errors=True)\n",
    "        train_model(\n",
    "            model=model,\n",
    "            data_container=data_container,\n",
    "            epochs=[25, 15],\n",
    "            optimizers=[keras.optimizers.Adam(lr=3e-4), keras.optimizers.Adam(lr=1e-4)],\n",
    "            class_weights=class_weights,\n",
    "            patience=4,\n",
    "            verbose=2,\n",
    "            log_dir=str(TEMP_DIR / model_name),\n",
    "        )\n",
    "        model.save(f\"{TEMP_DIR / model_name}.h5\")\n",
    "        save_keras_model(\n",
    "            model,\n",
    "            str(TEMP_DIR / model_name / \"architecture\"),\n",
    "            str(TEMP_DIR / model_name / \"weights\"),\n",
    "        )\n",
    "        keras.backend.clear_session()\n",
    "        del model\n",
    "        keras.backend.clear_session()"
   ]
  },
  {
   "cell_type": "code",
   "execution_count": 78,
   "metadata": {},
   "outputs": [
    {
     "data": {
      "application/javascript": [
       "\n",
       "            setTimeout(function() {\n",
       "                var nbb_cell_id = 78;\n",
       "                var nbb_formatted_code = \"def evaluate_models(urls, data_container):\\n    reports = {}\\n    for url in urls:\\n        model_name = f\\\"{url.split('/')[4]}\\\"\\n        print(f\\\" {model_name} \\\".center(80, \\\"=\\\"))\\n        try:\\n            model = keras.model.load_model(\\n                f\\\"{TEMP_DIR / model_name}.h5\\\",\\n                custom_objects={\\\"KerasLayer\\\": hub.KerasLayer},\\n            )\\n        except:\\n            print(f\\\"Loading architecture & weights separately\\\")\\n            model = load_keras_model(\\n                str(TEMP_DIR / model_name / \\\"architecture\\\"),\\n                str(TEMP_DIR / model_name / \\\"weights\\\"),\\n                custom_objects={\\\"KerasLayer\\\": hub.KerasLayer},\\n            )\\n        reports[model_name] = classification_report(\\n            [\\n                label.numpy()\\n                for _, label in data_container.validation.take(-1).unbatch()\\n            ],\\n            model.predict(data_container.validation).argmax(axis=1),\\n        )\\n        del model\\n    return reports\";\n",
       "                var nbb_cells = Jupyter.notebook.get_cells();\n",
       "                for (var i = 0; i < nbb_cells.length; ++i) {\n",
       "                    if (nbb_cells[i].input_prompt_number == nbb_cell_id) {\n",
       "                        nbb_cells[i].set_text(nbb_formatted_code);\n",
       "                        break;\n",
       "                    }\n",
       "                }\n",
       "            }, 500);\n",
       "            "
      ],
      "text/plain": [
       "<IPython.core.display.Javascript object>"
      ]
     },
     "metadata": {},
     "output_type": "display_data"
    }
   ],
   "source": [
    "def evaluate_models(urls, data_container):\n",
    "    reports = {}\n",
    "    for url in urls:\n",
    "        model_name = f\"{url.split('/')[4]}\"\n",
    "        print(f\" {model_name} \".center(80, \"=\"))\n",
    "        try:\n",
    "            model = keras.model.load_model(\n",
    "                f\"{TEMP_DIR / model_name}.h5\",\n",
    "                custom_objects={\"KerasLayer\": hub.KerasLayer},\n",
    "            )\n",
    "        except:\n",
    "            print(f\"Loading architecture & weights separately\")\n",
    "            model = load_keras_model(\n",
    "                str(TEMP_DIR / model_name / \"architecture\"),\n",
    "                str(TEMP_DIR / model_name / \"weights\"),\n",
    "                custom_objects={\"KerasLayer\": hub.KerasLayer},\n",
    "            )\n",
    "        reports[model_name] = classification_report(\n",
    "            [\n",
    "                label.numpy()\n",
    "                for _, label in data_container.validation.take(-1).unbatch()\n",
    "            ],\n",
    "            model.predict(data_container.validation).argmax(axis=1),\n",
    "        )\n",
    "        del model\n",
    "    return reports"
   ]
  },
  {
   "cell_type": "code",
   "execution_count": 79,
   "metadata": {},
   "outputs": [
    {
     "data": {
      "application/javascript": [
       "\n",
       "            setTimeout(function() {\n",
       "                var nbb_cell_id = 79;\n",
       "                var nbb_formatted_code = \"model_urls = (\\n    #     \\\"https://tfhub.dev/google/Wiki-words-250/2\\\",\\n    \\\"https://tfhub.dev/google/Wiki-words-250-with-normalization/2\\\",\\n    \\\"https://tfhub.dev/google/nnlm-en-dim128-with-normalization/2\\\",\\n)\";\n",
       "                var nbb_cells = Jupyter.notebook.get_cells();\n",
       "                for (var i = 0; i < nbb_cells.length; ++i) {\n",
       "                    if (nbb_cells[i].input_prompt_number == nbb_cell_id) {\n",
       "                        nbb_cells[i].set_text(nbb_formatted_code);\n",
       "                        break;\n",
       "                    }\n",
       "                }\n",
       "            }, 500);\n",
       "            "
      ],
      "text/plain": [
       "<IPython.core.display.Javascript object>"
      ]
     },
     "metadata": {},
     "output_type": "display_data"
    }
   ],
   "source": [
    "model_urls = (\n",
    "    #     \"https://tfhub.dev/google/Wiki-words-250/2\",\n",
    "    \"https://tfhub.dev/google/Wiki-words-250-with-normalization/2\",\n",
    "    \"https://tfhub.dev/google/nnlm-en-dim128-with-normalization/2\",\n",
    ")"
   ]
  },
  {
   "cell_type": "code",
   "execution_count": null,
   "metadata": {},
   "outputs": [
    {
     "name": "stdout",
     "output_type": "stream",
     "text": [
      "====================== Wiki-words-250-with-normalization =======================\n",
      "Train for 782 steps, validate for 71 steps\n",
      "Epoch 1/25\n",
      "782/782 - 4s - loss: 1.6490 - sparse_categorical_accuracy: 0.2159 - sparse_top_2_categorical_accuracy: 0.4261 - val_loss: 1.5699 - val_sparse_categorical_accuracy: 0.3210 - val_sparse_top_2_categorical_accuracy: 0.5638\n",
      "Epoch 2/25\n",
      "782/782 - 4s - loss: 1.5953 - sparse_categorical_accuracy: 0.2564 - sparse_top_2_categorical_accuracy: 0.4773 - val_loss: 1.5226 - val_sparse_categorical_accuracy: 0.4283 - val_sparse_top_2_categorical_accuracy: 0.6402\n",
      "Epoch 3/25\n",
      "782/782 - 4s - loss: 1.5689 - sparse_categorical_accuracy: 0.2773 - sparse_top_2_categorical_accuracy: 0.5083 - val_loss: 1.5040 - val_sparse_categorical_accuracy: 0.4384 - val_sparse_top_2_categorical_accuracy: 0.6508\n",
      "Epoch 4/25\n",
      "782/782 - 4s - loss: 1.5420 - sparse_categorical_accuracy: 0.2989 - sparse_top_2_categorical_accuracy: 0.5378 - val_loss: 1.4828 - val_sparse_categorical_accuracy: 0.4486 - val_sparse_top_2_categorical_accuracy: 0.6600\n",
      "Epoch 5/25\n",
      "782/782 - 4s - loss: 1.5331 - sparse_categorical_accuracy: 0.3007 - sparse_top_2_categorical_accuracy: 0.5432 - val_loss: 1.4666 - val_sparse_categorical_accuracy: 0.4556 - val_sparse_top_2_categorical_accuracy: 0.6623\n",
      "Epoch 6/25\n",
      "782/782 - 4s - loss: 1.5223 - sparse_categorical_accuracy: 0.3099 - sparse_top_2_categorical_accuracy: 0.5576 - val_loss: 1.4561 - val_sparse_categorical_accuracy: 0.4534 - val_sparse_top_2_categorical_accuracy: 0.6680\n",
      "Epoch 7/25\n",
      "782/782 - 4s - loss: 1.5099 - sparse_categorical_accuracy: 0.3158 - sparse_top_2_categorical_accuracy: 0.5694 - val_loss: 1.4442 - val_sparse_categorical_accuracy: 0.4587 - val_sparse_top_2_categorical_accuracy: 0.6706\n",
      "Epoch 8/25\n",
      "782/782 - 4s - loss: 1.5093 - sparse_categorical_accuracy: 0.3165 - sparse_top_2_categorical_accuracy: 0.5683 - val_loss: 1.4476 - val_sparse_categorical_accuracy: 0.4459 - val_sparse_top_2_categorical_accuracy: 0.6609\n",
      "Epoch 9/25\n",
      "782/782 - 4s - loss: 1.5013 - sparse_categorical_accuracy: 0.3271 - sparse_top_2_categorical_accuracy: 0.5756 - val_loss: 1.4332 - val_sparse_categorical_accuracy: 0.4517 - val_sparse_top_2_categorical_accuracy: 0.6728\n",
      "Epoch 10/25\n",
      "782/782 - 4s - loss: 1.4986 - sparse_categorical_accuracy: 0.3283 - sparse_top_2_categorical_accuracy: 0.5799 - val_loss: 1.4300 - val_sparse_categorical_accuracy: 0.4547 - val_sparse_top_2_categorical_accuracy: 0.6671\n",
      "Epoch 11/25\n",
      "782/782 - 4s - loss: 1.4937 - sparse_categorical_accuracy: 0.3307 - sparse_top_2_categorical_accuracy: 0.5822 - val_loss: 1.4237 - val_sparse_categorical_accuracy: 0.4547 - val_sparse_top_2_categorical_accuracy: 0.6724\n",
      "Epoch 12/25\n",
      "782/782 - 4s - loss: 1.4908 - sparse_categorical_accuracy: 0.3354 - sparse_top_2_categorical_accuracy: 0.5867 - val_loss: 1.4255 - val_sparse_categorical_accuracy: 0.4534 - val_sparse_top_2_categorical_accuracy: 0.6680\n",
      "Epoch 13/25\n",
      "782/782 - 4s - loss: 1.4881 - sparse_categorical_accuracy: 0.3299 - sparse_top_2_categorical_accuracy: 0.5834 - val_loss: 1.4122 - val_sparse_categorical_accuracy: 0.4583 - val_sparse_top_2_categorical_accuracy: 0.6768\n",
      "Epoch 14/25\n",
      "782/782 - 4s - loss: 1.4859 - sparse_categorical_accuracy: 0.3332 - sparse_top_2_categorical_accuracy: 0.5884 - val_loss: 1.4111 - val_sparse_categorical_accuracy: 0.4574 - val_sparse_top_2_categorical_accuracy: 0.6777\n",
      "Epoch 15/25\n",
      "782/782 - 4s - loss: 1.4835 - sparse_categorical_accuracy: 0.3372 - sparse_top_2_categorical_accuracy: 0.5909 - val_loss: 1.4089 - val_sparse_categorical_accuracy: 0.4570 - val_sparse_top_2_categorical_accuracy: 0.6781\n",
      "Epoch 16/25\n",
      "782/782 - 4s - loss: 1.4817 - sparse_categorical_accuracy: 0.3381 - sparse_top_2_categorical_accuracy: 0.5925 - val_loss: 1.4008 - val_sparse_categorical_accuracy: 0.4592 - val_sparse_top_2_categorical_accuracy: 0.6857\n",
      "Epoch 17/25\n",
      "782/782 - 4s - loss: 1.4811 - sparse_categorical_accuracy: 0.3383 - sparse_top_2_categorical_accuracy: 0.5923 - val_loss: 1.4107 - val_sparse_categorical_accuracy: 0.4592 - val_sparse_top_2_categorical_accuracy: 0.6777\n",
      "Epoch 18/25\n",
      "782/782 - 4s - loss: 1.4786 - sparse_categorical_accuracy: 0.3400 - sparse_top_2_categorical_accuracy: 0.5931 - val_loss: 1.3935 - val_sparse_categorical_accuracy: 0.4618 - val_sparse_top_2_categorical_accuracy: 0.6887\n",
      "Epoch 19/25\n",
      "782/782 - 3s - loss: 1.4802 - sparse_categorical_accuracy: 0.3370 - sparse_top_2_categorical_accuracy: 0.5908 - val_loss: 1.3968 - val_sparse_categorical_accuracy: 0.4600 - val_sparse_top_2_categorical_accuracy: 0.6865\n",
      "Epoch 20/25\n",
      "782/782 - 3s - loss: 1.4807 - sparse_categorical_accuracy: 0.3365 - sparse_top_2_categorical_accuracy: 0.5916 - val_loss: 1.4037 - val_sparse_categorical_accuracy: 0.4578 - val_sparse_top_2_categorical_accuracy: 0.6830\n",
      "Epoch 21/25\n",
      "782/782 - 3s - loss: 1.4771 - sparse_categorical_accuracy: 0.3402 - sparse_top_2_categorical_accuracy: 0.5932 - val_loss: 1.3986 - val_sparse_categorical_accuracy: 0.4587 - val_sparse_top_2_categorical_accuracy: 0.6848\n",
      "Epoch 22/25\n",
      "782/782 - 4s - loss: 1.4766 - sparse_categorical_accuracy: 0.3394 - sparse_top_2_categorical_accuracy: 0.5973 - val_loss: 1.3978 - val_sparse_categorical_accuracy: 0.4596 - val_sparse_top_2_categorical_accuracy: 0.6852\n",
      "Train for 782 steps, validate for 71 steps\n",
      "Epoch 1/15\n",
      "782/782 - 53s - loss: 1.3705 - sparse_categorical_accuracy: 0.4048 - sparse_top_2_categorical_accuracy: 0.6731 - val_loss: 1.1953 - val_sparse_categorical_accuracy: 0.5514 - val_sparse_top_2_categorical_accuracy: 0.7792\n",
      "Epoch 2/15\n",
      "782/782 - 53s - loss: 1.2367 - sparse_categorical_accuracy: 0.4702 - sparse_top_2_categorical_accuracy: 0.7570 - val_loss: 1.1115 - val_sparse_categorical_accuracy: 0.5735 - val_sparse_top_2_categorical_accuracy: 0.7974\n",
      "Epoch 3/15\n",
      "782/782 - 53s - loss: 1.1523 - sparse_categorical_accuracy: 0.5152 - sparse_top_2_categorical_accuracy: 0.8010 - val_loss: 1.0635 - val_sparse_categorical_accuracy: 0.5757 - val_sparse_top_2_categorical_accuracy: 0.8124\n",
      "Epoch 4/15\n",
      "782/782 - 53s - loss: 1.0904 - sparse_categorical_accuracy: 0.5462 - sparse_top_2_categorical_accuracy: 0.8259 - val_loss: 1.0327 - val_sparse_categorical_accuracy: 0.5841 - val_sparse_top_2_categorical_accuracy: 0.8216\n",
      "Epoch 5/15\n",
      "782/782 - 53s - loss: 1.0405 - sparse_categorical_accuracy: 0.5738 - sparse_top_2_categorical_accuracy: 0.8436 - val_loss: 1.0116 - val_sparse_categorical_accuracy: 0.5916 - val_sparse_top_2_categorical_accuracy: 0.8247\n",
      "Epoch 6/15\n",
      "782/782 - 53s - loss: 0.9985 - sparse_categorical_accuracy: 0.5900 - sparse_top_2_categorical_accuracy: 0.8566 - val_loss: 1.0016 - val_sparse_categorical_accuracy: 0.5863 - val_sparse_top_2_categorical_accuracy: 0.8252\n",
      "Epoch 7/15\n",
      "782/782 - 53s - loss: 0.9576 - sparse_categorical_accuracy: 0.6155 - sparse_top_2_categorical_accuracy: 0.8686 - val_loss: 0.9932 - val_sparse_categorical_accuracy: 0.5903 - val_sparse_top_2_categorical_accuracy: 0.8269\n",
      "Epoch 8/15\n",
      "782/782 - 53s - loss: 0.9231 - sparse_categorical_accuracy: 0.6300 - sparse_top_2_categorical_accuracy: 0.8788 - val_loss: 0.9849 - val_sparse_categorical_accuracy: 0.5974 - val_sparse_top_2_categorical_accuracy: 0.8331\n",
      "Epoch 9/15\n",
      "782/782 - 53s - loss: 0.8860 - sparse_categorical_accuracy: 0.6508 - sparse_top_2_categorical_accuracy: 0.8875 - val_loss: 0.9829 - val_sparse_categorical_accuracy: 0.5938 - val_sparse_top_2_categorical_accuracy: 0.8313\n",
      "Epoch 10/15\n"
     ]
    }
   ],
   "source": [
    "run_models(model_urls, data_container, class_weights)"
   ]
  },
  {
   "cell_type": "code",
   "execution_count": 75,
   "metadata": {},
   "outputs": [
    {
     "name": "stdout",
     "output_type": "stream",
     "text": [
      "====================== Wiki-words-250-with-normalization =======================\n",
      "Loading architecture & weights separately\n",
      "====================== nnlm-en-dim128-with-normalization =======================\n",
      "Loading architecture & weights separately\n"
     ]
    },
    {
     "data": {
      "application/javascript": [
       "\n",
       "            setTimeout(function() {\n",
       "                var nbb_cell_id = 75;\n",
       "                var nbb_formatted_code = \"reports = evaluate_models(model_urls, data_container)\";\n",
       "                var nbb_cells = Jupyter.notebook.get_cells();\n",
       "                for (var i = 0; i < nbb_cells.length; ++i) {\n",
       "                    if (nbb_cells[i].input_prompt_number == nbb_cell_id) {\n",
       "                        nbb_cells[i].set_text(nbb_formatted_code);\n",
       "                        break;\n",
       "                    }\n",
       "                }\n",
       "            }, 500);\n",
       "            "
      ],
      "text/plain": [
       "<IPython.core.display.Javascript object>"
      ]
     },
     "metadata": {},
     "output_type": "display_data"
    }
   ],
   "source": [
    "reports = evaluate_models(model_urls, data_container)"
   ]
  },
  {
   "cell_type": "code",
   "execution_count": 76,
   "metadata": {},
   "outputs": [
    {
     "name": "stdout",
     "output_type": "stream",
     "text": [
      "====================== Wiki-words-250-with-normalization =======================\n",
      "              precision    recall  f1-score   support\n",
      "\n",
      "           0       0.31      0.37      0.34        89\n",
      "           1       0.25      0.31      0.28       159\n",
      "           2       0.32      0.37      0.34       280\n",
      "           3       0.45      0.51      0.48       538\n",
      "           4       0.86      0.73      0.79      1199\n",
      "\n",
      "    accuracy                           0.59      2265\n",
      "   macro avg       0.44      0.46      0.44      2265\n",
      "weighted avg       0.63      0.59      0.60      2265\n",
      "\n",
      "====================== nnlm-en-dim128-with-normalization =======================\n",
      "              precision    recall  f1-score   support\n",
      "\n",
      "           0       0.30      0.38      0.34        89\n",
      "           1       0.26      0.33      0.29       159\n",
      "           2       0.34      0.38      0.35       280\n",
      "           3       0.45      0.52      0.48       538\n",
      "           4       0.85      0.73      0.79      1199\n",
      "\n",
      "    accuracy                           0.59      2265\n",
      "   macro avg       0.44      0.47      0.45      2265\n",
      "weighted avg       0.63      0.59      0.61      2265\n",
      "\n"
     ]
    },
    {
     "data": {
      "application/javascript": [
       "\n",
       "            setTimeout(function() {\n",
       "                var nbb_cell_id = 76;\n",
       "                var nbb_formatted_code = \"for model_name, report in reports.items():\\n    print(f\\\" {model_name} \\\".center(80, \\\"=\\\"))\\n    print(report)\";\n",
       "                var nbb_cells = Jupyter.notebook.get_cells();\n",
       "                for (var i = 0; i < nbb_cells.length; ++i) {\n",
       "                    if (nbb_cells[i].input_prompt_number == nbb_cell_id) {\n",
       "                        nbb_cells[i].set_text(nbb_formatted_code);\n",
       "                        break;\n",
       "                    }\n",
       "                }\n",
       "            }, 500);\n",
       "            "
      ],
      "text/plain": [
       "<IPython.core.display.Javascript object>"
      ]
     },
     "metadata": {},
     "output_type": "display_data"
    }
   ],
   "source": [
    "for model_name, report in reports.items():\n",
    "    print(f\" {model_name} \".center(80, \"=\"))\n",
    "    print(report)"
   ]
  },
  {
   "cell_type": "code",
   "execution_count": null,
   "metadata": {},
   "outputs": [],
   "source": [
    "# ================================ Wiki-words-250 ================================\n",
    "#               precision    recall  f1-score   support\n",
    "\n",
    "#            0       0.54      0.81      0.65        77\n",
    "#            1       0.52      0.68      0.59       159\n",
    "#            2       0.54      0.60      0.57       303\n",
    "#            3       0.48      0.54      0.51       500\n",
    "#            4       0.86      0.73      0.79      1226\n",
    "\n",
    "#     accuracy                           0.67      2265\n",
    "#    macro avg       0.59      0.67      0.62      2265\n",
    "# weighted avg       0.70      0.67      0.68      2265\n",
    "\n",
    "# ====================== Wiki-words-250-with-normalization =======================\n",
    "#               precision    recall  f1-score   support\n",
    "\n",
    "#            0       0.63      0.83      0.72        77\n",
    "#            1       0.55      0.69      0.61       159\n",
    "#            2       0.53      0.61      0.57       303\n",
    "#            3       0.50      0.57      0.53       500\n",
    "#            4       0.87      0.75      0.81      1226\n",
    "\n",
    "#     accuracy                           0.69      2265\n",
    "#    macro avg       0.62      0.69      0.65      2265\n",
    "# weighted avg       0.71      0.69      0.70      2265\n",
    "\n",
    "# ====================== nnlm-en-dim128-with-normalization =======================\n",
    "#               precision    recall  f1-score   support\n",
    "\n",
    "#            0       0.61      0.86      0.71        77\n",
    "#            1       0.56      0.69      0.62       159\n",
    "#            2       0.54      0.59      0.56       303\n",
    "#            3       0.49      0.56      0.52       500\n",
    "#            4       0.87      0.74      0.80      1226\n",
    "\n",
    "#     accuracy                           0.68      2265\n",
    "#    macro avg       0.61      0.69      0.64      2265\n",
    "# weighted avg       0.71      0.68      0.69      2265"
   ]
  },
  {
   "cell_type": "code",
   "execution_count": null,
   "metadata": {},
   "outputs": [],
   "source": [
    "# ================================ Wiki-words-250 ================================\n",
    "#               precision    recall  f1-score   support\n",
    "\n",
    "#            0       0.54      0.81      0.65        77\n",
    "#            1       0.52      0.68      0.59       159\n",
    "#            2       0.54      0.60      0.57       303\n",
    "#            3       0.48      0.54      0.51       500\n",
    "#            4       0.86      0.73      0.79      1226\n",
    "\n",
    "#     accuracy                           0.67      2265\n",
    "#    macro avg       0.59      0.67      0.62      2265\n",
    "# weighted avg       0.70      0.67      0.68      2265\n",
    "\n",
    "# ====================== Wiki-words-250-with-normalization =======================\n",
    "#               precision    recall  f1-score   support\n",
    "\n",
    "#            0       0.63      0.83      0.72        77\n",
    "#            1       0.55      0.69      0.61       159\n",
    "#            2       0.53      0.61      0.57       303\n",
    "#            3       0.50      0.57      0.53       500\n",
    "#            4       0.87      0.75      0.81      1226\n",
    "\n",
    "#     accuracy                           0.69      2265\n",
    "#    macro avg       0.62      0.69      0.65      2265\n",
    "# weighted avg       0.71      0.69      0.70      2265\n",
    "\n",
    "# ====================== nnlm-en-dim128-with-normalization =======================\n",
    "#               precision    recall  f1-score   support\n",
    "\n",
    "#            0       0.61      0.86      0.71        77\n",
    "#            1       0.56      0.69      0.62       159\n",
    "#            2       0.54      0.59      0.56       303\n",
    "#            3       0.49      0.56      0.52       500\n",
    "#            4       0.87      0.74      0.80      1226\n",
    "\n",
    "#     accuracy                           0.68      2265\n",
    "#    macro avg       0.61      0.69      0.64      2265\n",
    "# weighted avg       0.71      0.68      0.69      2265"
   ]
  }
 ],
 "metadata": {
  "kernelspec": {
   "display_name": "Python 3",
   "language": "python",
   "name": "python3"
  },
  "language_info": {
   "codemirror_mode": {
    "name": "ipython",
    "version": 3
   },
   "file_extension": ".py",
   "mimetype": "text/x-python",
   "name": "python",
   "nbconvert_exporter": "python",
   "pygments_lexer": "ipython3",
   "version": "3.6.8"
  }
 },
 "nbformat": 4,
 "nbformat_minor": 2
}
